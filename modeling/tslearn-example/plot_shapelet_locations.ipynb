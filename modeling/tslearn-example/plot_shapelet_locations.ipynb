{
 "cells": [
  {
   "cell_type": "markdown",
   "metadata": {},
   "source": [
    "\n",
    "Learning Shapelets\n",
    "==================\n",
    "\n",
    "This example illustrates the use of the \"Learning Shapelets\" method for a time series classification task and\n",
    "``tslearn``'s shapelet localization method.\n",
    "\n",
    "More information on the method can be found at: http://fs.ismll.de/publicspace/LearningShapelets/.\n",
    "\n"
   ]
  },
  {
   "cell_type": "code",
   "execution_count": 1,
   "metadata": {},
   "outputs": [
    {
     "name": "stderr",
     "output_type": "stream",
     "text": [
      "Using TensorFlow backend.\n"
     ]
    }
   ],
   "source": [
    "# Author: Romain Tavenard\n",
    "# License: BSD 3 clause\n",
    "\n",
    "import numpy\n",
    "from keras.optimizers import Adagrad\n",
    "import matplotlib.pyplot as plt\n",
    "\n",
    "from tslearn.datasets import CachedDatasets\n",
    "from tslearn.preprocessing import TimeSeriesScalerMinMax\n",
    "from tslearn.shapelets import ShapeletModel, grabocka_params_to_shapelet_size_dict"
   ]
  },
  {
   "cell_type": "code",
   "execution_count": 2,
   "metadata": {},
   "outputs": [
    {
     "name": "stdout",
     "output_type": "stream",
     "text": [
      "X_train.shape=(100, 275, 1)\n",
      "number of classes=[1 2 3 4]\n"
     ]
    }
   ],
   "source": [
    "numpy.random.seed(0)\n",
    "X_train, y_train, X_test, y_test = CachedDatasets().load_dataset(\"Trace\")\n",
    "X_train = TimeSeriesScalerMinMax().fit_transform(X_train)\n",
    "X_test = TimeSeriesScalerMinMax().fit_transform(X_test)\n",
    "print(f\"X_train.shape={X_train.shape}\\nnumber of classes={numpy.unique(y_train)}\")"
   ]
  },
  {
   "cell_type": "code",
   "execution_count": 3,
   "metadata": {},
   "outputs": [
    {
     "data": {
      "text/plain": [
       "array([[0.43535916],\n",
       "       [0.45492786],\n",
       "       [0.44691052],\n",
       "       [0.43558961],\n",
       "       [0.43331098],\n",
       "       [0.44377547],\n",
       "       [0.44416585],\n",
       "       [0.43436345],\n",
       "       [0.43868854],\n",
       "       [0.44428279],\n",
       "       [0.45063716],\n",
       "       [0.44233779],\n",
       "       [0.44896559],\n",
       "       [0.44600079],\n",
       "       [0.44332147],\n",
       "       [0.44962424],\n",
       "       [0.44729746],\n",
       "       [0.44894151],\n",
       "       [0.43569451],\n",
       "       [0.45205249],\n",
       "       [0.43627405],\n",
       "       [0.44681766],\n",
       "       [0.44118901],\n",
       "       [0.4511118 ],\n",
       "       [0.44054412],\n",
       "       [0.4460713 ],\n",
       "       [0.45152109],\n",
       "       [0.45195962],\n",
       "       [0.44597671],\n",
       "       [0.45441366],\n",
       "       [0.45002322],\n",
       "       [0.4576261 ],\n",
       "       [0.45199917],\n",
       "       [0.45719961],\n",
       "       [0.44418477],\n",
       "       [0.44315981],\n",
       "       [0.44770675],\n",
       "       [0.45650656],\n",
       "       [0.44563105],\n",
       "       [0.45080053],\n",
       "       [0.45309292],\n",
       "       [0.45268706],\n",
       "       [0.45249101],\n",
       "       [0.4490189 ],\n",
       "       [0.43850625],\n",
       "       [0.44680562],\n",
       "       [0.4463069 ],\n",
       "       [0.45227089],\n",
       "       [0.44118042],\n",
       "       [0.45980326],\n",
       "       [0.44720975],\n",
       "       [0.51527971],\n",
       "       [0.73875733],\n",
       "       [0.94137474],\n",
       "       [1.        ],\n",
       "       [0.99834907],\n",
       "       [0.51583002],\n",
       "       [0.1271561 ],\n",
       "       [0.01859017],\n",
       "       [0.0067413 ],\n",
       "       [0.01482399],\n",
       "       [0.01176289],\n",
       "       [0.01124697],\n",
       "       [0.00103183],\n",
       "       [0.00268276],\n",
       "       [0.        ],\n",
       "       [0.01859017],\n",
       "       [0.01494437],\n",
       "       [0.01805706],\n",
       "       [0.01958761],\n",
       "       [0.01718   ],\n",
       "       [0.00641456],\n",
       "       [0.01669848],\n",
       "       [0.01876215],\n",
       "       [0.02180605],\n",
       "       [0.01334503],\n",
       "       [0.0208602 ],\n",
       "       [0.01821184],\n",
       "       [0.02684483],\n",
       "       [0.03518547],\n",
       "       [0.03879688],\n",
       "       [0.02476397],\n",
       "       [0.02861614],\n",
       "       [0.03336257],\n",
       "       [0.04282103],\n",
       "       [0.04699995],\n",
       "       [0.03549502],\n",
       "       [0.0491496 ],\n",
       "       [0.03936439],\n",
       "       [0.06041376],\n",
       "       [0.05353488],\n",
       "       [0.06056854],\n",
       "       [0.05547817],\n",
       "       [0.05740425],\n",
       "       [0.06675953],\n",
       "       [0.06909835],\n",
       "       [0.07167793],\n",
       "       [0.07411993],\n",
       "       [0.07941667],\n",
       "       [0.07792051],\n",
       "       [0.08135995],\n",
       "       [0.09097319],\n",
       "       [0.09516931],\n",
       "       [0.10113673],\n",
       "       [0.09424066],\n",
       "       [0.10302843],\n",
       "       [0.11580595],\n",
       "       [0.1204148 ],\n",
       "       [0.12789558],\n",
       "       [0.12404341],\n",
       "       [0.13243564],\n",
       "       [0.14567748],\n",
       "       [0.15642573],\n",
       "       [0.16361416],\n",
       "       [0.16576381],\n",
       "       [0.17980877],\n",
       "       [0.17590844],\n",
       "       [0.18238835],\n",
       "       [0.20302671],\n",
       "       [0.20163201],\n",
       "       [0.20382466],\n",
       "       [0.20806205],\n",
       "       [0.21864692],\n",
       "       [0.21819464],\n",
       "       [0.23886395],\n",
       "       [0.23472975],\n",
       "       [0.23123871],\n",
       "       [0.23555693],\n",
       "       [0.2464376 ],\n",
       "       [0.2540594 ],\n",
       "       [0.25540078],\n",
       "       [0.27514489],\n",
       "       [0.27157303],\n",
       "       [0.27973998],\n",
       "       [0.28388278],\n",
       "       [0.29517619],\n",
       "       [0.30206194],\n",
       "       [0.29793634],\n",
       "       [0.30811192],\n",
       "       [0.31915424],\n",
       "       [0.32611962],\n",
       "       [0.33849782],\n",
       "       [0.31879654],\n",
       "       [0.32865432],\n",
       "       [0.3308394 ],\n",
       "       [0.33171387],\n",
       "       [0.33996819],\n",
       "       [0.35406353],\n",
       "       [0.345424  ],\n",
       "       [0.35945244],\n",
       "       [0.36232093],\n",
       "       [0.36215412],\n",
       "       [0.36762799],\n",
       "       [0.36701233],\n",
       "       [0.36742678],\n",
       "       [0.3696521 ],\n",
       "       [0.38324821],\n",
       "       [0.38268242],\n",
       "       [0.38917436],\n",
       "       [0.39652273],\n",
       "       [0.40683073],\n",
       "       [0.4066192 ],\n",
       "       [0.39412716],\n",
       "       [0.4034446 ],\n",
       "       [0.3921082 ],\n",
       "       [0.39989682],\n",
       "       [0.40580062],\n",
       "       [0.40544119],\n",
       "       [0.41141034],\n",
       "       [0.40550826],\n",
       "       [0.41332955],\n",
       "       [0.41124181],\n",
       "       [0.41691001],\n",
       "       [0.41163735],\n",
       "       [0.41084627],\n",
       "       [0.42373386],\n",
       "       [0.41775267],\n",
       "       [0.41812241],\n",
       "       [0.40808096],\n",
       "       [0.42154121],\n",
       "       [0.41854546],\n",
       "       [0.4182961 ],\n",
       "       [0.42498409],\n",
       "       [0.42534867],\n",
       "       [0.4336704 ],\n",
       "       [0.43447007],\n",
       "       [0.42164784],\n",
       "       [0.43014497],\n",
       "       [0.42682935],\n",
       "       [0.43463   ],\n",
       "       [0.4315861 ],\n",
       "       [0.43101515],\n",
       "       [0.43199883],\n",
       "       [0.43877969],\n",
       "       [0.43691895],\n",
       "       [0.44517705],\n",
       "       [0.43663864],\n",
       "       [0.43593527],\n",
       "       [0.43581145],\n",
       "       [0.44267141],\n",
       "       [0.43234793],\n",
       "       [0.43563776],\n",
       "       [0.44019846],\n",
       "       [0.43137113],\n",
       "       [0.44187862],\n",
       "       [0.43985623],\n",
       "       [0.43924917],\n",
       "       [0.43993706],\n",
       "       [0.43981668],\n",
       "       [0.43564292],\n",
       "       [0.4445975 ],\n",
       "       [0.440281  ],\n",
       "       [0.44012795],\n",
       "       [0.45109288],\n",
       "       [0.42788354],\n",
       "       [0.4367143 ],\n",
       "       [0.4434814 ],\n",
       "       [0.43655609],\n",
       "       [0.44031368],\n",
       "       [0.43787167],\n",
       "       [0.44364134],\n",
       "       [0.44228104],\n",
       "       [0.43997661],\n",
       "       [0.44593888],\n",
       "       [0.45476964],\n",
       "       [0.43897745],\n",
       "       [0.43679341],\n",
       "       [0.43894306],\n",
       "       [0.44207467],\n",
       "       [0.45082117],\n",
       "       [0.44153468],\n",
       "       [0.44933705],\n",
       "       [0.44322688],\n",
       "       [0.44080208],\n",
       "       [0.44592168],\n",
       "       [0.43389568],\n",
       "       [0.43627921],\n",
       "       [0.43698602],\n",
       "       [0.44418305],\n",
       "       [0.43372371],\n",
       "       [0.4330341 ],\n",
       "       [0.44703262],\n",
       "       [0.44257855],\n",
       "       [0.43557241],\n",
       "       [0.43653545],\n",
       "       [0.43877625],\n",
       "       [0.44661817],\n",
       "       [0.43406421],\n",
       "       [0.44335242],\n",
       "       [0.43691723],\n",
       "       [0.44294657],\n",
       "       [0.4335139 ],\n",
       "       [0.44290358],\n",
       "       [0.44204887],\n",
       "       [0.44465941],\n",
       "       [0.44503259],\n",
       "       [0.43923025],\n",
       "       [0.45734922],\n",
       "       [0.44863712],\n",
       "       [0.43726461],\n",
       "       [0.44175136],\n",
       "       [0.45781355],\n",
       "       [0.44086227],\n",
       "       [0.45137664],\n",
       "       [0.44123201],\n",
       "       [0.44295345],\n",
       "       [0.44117526],\n",
       "       [0.44464565],\n",
       "       [0.44217269],\n",
       "       [0.44547284],\n",
       "       [0.43711156],\n",
       "       [0.43021376],\n",
       "       [0.44562589],\n",
       "       [0.44434642],\n",
       "       [0.44209187]])"
      ]
     },
     "execution_count": 3,
     "metadata": {},
     "output_type": "execute_result"
    }
   ],
   "source": [
    "X_train[0]"
   ]
  },
  {
   "cell_type": "code",
   "execution_count": 4,
   "metadata": {},
   "outputs": [
    {
     "data": {
      "text/plain": [
       "{27: 4, 54: 4}"
      ]
     },
     "execution_count": 4,
     "metadata": {},
     "output_type": "execute_result"
    }
   ],
   "source": [
    "shapelet_sizes = grabocka_params_to_shapelet_size_dict(n_ts=X_train.shape[0],\n",
    "                                                       ts_sz=X_train.shape[1],\n",
    "                                                       n_classes=len(set(y_train)),\n",
    "                                                       l=0.1,\n",
    "                                                       r=2)\n",
    "shapelet_sizes"
   ]
  },
  {
   "cell_type": "code",
   "execution_count": 5,
   "metadata": {},
   "outputs": [
    {
     "name": "stdout",
     "output_type": "stream",
     "text": [
      "WARNING:tensorflow:From /home/frankl1/.env/plasticc/lib/python3.7/site-packages/tensorflow/python/framework/op_def_library.py:263: colocate_with (from tensorflow.python.framework.ops) is deprecated and will be removed in a future version.\n",
      "Instructions for updating:\n",
      "Colocations handled automatically by placer.\n",
      "WARNING:tensorflow:From /home/frankl1/.env/plasticc/lib/python3.7/site-packages/tensorflow/python/ops/math_ops.py:3066: to_int32 (from tensorflow.python.ops.math_ops) is deprecated and will be removed in a future version.\n",
      "Instructions for updating:\n",
      "Use tf.cast instead.\n",
      "WARNING:tensorflow:From /home/frankl1/.env/plasticc/lib/python3.7/site-packages/tensorflow/python/ops/math_grad.py:102: div (from tensorflow.python.ops.math_ops) is deprecated and will be removed in a future version.\n",
      "Instructions for updating:\n",
      "Deprecated in favor of operator or tf.math.divide.\n"
     ]
    },
    {
     "data": {
      "text/plain": [
       "ShapeletModel(batch_size=256, max_iter=50,\n",
       "       n_shapelets_per_size={27: 4, 54: 4},\n",
       "       optimizer=<keras.optimizers.Adagrad object at 0x7ff5f81c1518>,\n",
       "       random_state=None, verbose_level=0, weight_regularizer=0.01)"
      ]
     },
     "execution_count": 5,
     "metadata": {},
     "output_type": "execute_result"
    }
   ],
   "source": [
    "shp_clf = ShapeletModel(n_shapelets_per_size=shapelet_sizes,\n",
    "                        optimizer=Adagrad(lr=.1),\n",
    "                        weight_regularizer=.01,\n",
    "                        max_iter=50,\n",
    "                        verbose_level=0)\n",
    "shp_clf.fit(X_train, y_train)"
   ]
  },
  {
   "cell_type": "code",
   "execution_count": 6,
   "metadata": {},
   "outputs": [
    {
     "data": {
      "text/plain": [
       "[<matplotlib.lines.Line2D at 0x7ff5a04f1198>]"
      ]
     },
     "execution_count": 6,
     "metadata": {},
     "output_type": "execute_result"
    },
    {
     "data": {
      "image/png": "[encoded data removed]",
      "text/plain": [
       "<Figure size 432x288 with 1 Axes>"
      ]
     },
     "metadata": {
      "needs_background": "light"
     },
     "output_type": "display_data"
    }
   ],
   "source": [
    "predicted_locations = shp_clf.locate(X_test)\n",
    "\n",
    "test_ts_id = 0\n",
    "plt.figure()\n",
    "plt.title(\"Example locations of shapelet matches (%d shapelets extracted)\" % sum(shapelet_sizes.values()))\n",
    "plt.plot(X_test[test_ts_id].ravel())"
   ]
  },
  {
   "cell_type": "code",
   "execution_count": 7,
   "metadata": {},
   "outputs": [
    {
     "data": {
      "text/plain": [
       "(275, 1)"
      ]
     },
     "execution_count": 7,
     "metadata": {},
     "output_type": "execute_result"
    }
   ],
   "source": [
    "X_test[test_ts_id].shape"
   ]
  },
  {
   "cell_type": "code",
   "execution_count": 8,
   "metadata": {},
   "outputs": [
    {
     "data": {
      "text/plain": [
       "(275,)"
      ]
     },
     "execution_count": 8,
     "metadata": {},
     "output_type": "execute_result"
    }
   ],
   "source": [
    "X_test[test_ts_id].ravel().shape"
   ]
  },
  {
   "cell_type": "code",
   "execution_count": 9,
   "metadata": {},
   "outputs": [
    {
     "data": {
      "text/plain": [
       "(27, 1)"
      ]
     },
     "execution_count": 9,
     "metadata": {},
     "output_type": "execute_result"
    }
   ],
   "source": [
    "shp_clf.shapelets_[0].shape"
   ]
  },
  {
   "cell_type": "code",
   "execution_count": 10,
   "metadata": {},
   "outputs": [
    {
     "data": {
      "image/png": "[encoded data removed]",
      "text/plain": [
       "<Figure size 432x288 with 1 Axes>"
      ]
     },
     "metadata": {
      "needs_background": "light"
     },
     "output_type": "display_data"
    }
   ],
   "source": [
    "plt.plot(X_test[test_ts_id].ravel())\n",
    "for idx_shp, shp in enumerate(shp_clf.shapelets_):\n",
    "    t0 = predicted_locations[test_ts_id, idx_shp]\n",
    "    plt.plot(numpy.arange(t0, t0 + len(shp)), shp, linewidth=2)\n",
    "\n",
    "plt.tight_layout()\n",
    "plt.show()"
   ]
  },
  {
   "cell_type": "code",
   "execution_count": 11,
   "metadata": {},
   "outputs": [
    {
     "data": {
      "text/plain": [
       "True"
      ]
     },
     "execution_count": 11,
     "metadata": {},
     "output_type": "execute_result"
    }
   ],
   "source": [
    "y_train[0] == shp_clf.predict([X_train[0]])[0]"
   ]
  },
  {
   "cell_type": "code",
   "execution_count": 12,
   "metadata": {},
   "outputs": [
    {
     "data": {
      "text/plain": [
       "array([[0.7343034 , 0.14114405, 0.09133278, 0.03321987]], dtype=float32)"
      ]
     },
     "execution_count": 12,
     "metadata": {},
     "output_type": "execute_result"
    }
   ],
   "source": [
    "shp_clf.predict_proba([X_train[0]])"
   ]
  },
  {
   "cell_type": "code",
   "execution_count": 13,
   "metadata": {},
   "outputs": [
    {
     "data": {
      "text/plain": [
       "{'batch_size': 256,\n",
       " 'max_iter': 50,\n",
       " 'n_shapelets_per_size': {27: 4, 54: 4},\n",
       " 'optimizer': <keras.optimizers.Adagrad at 0x7ff5f81c1518>,\n",
       " 'random_state': None,\n",
       " 'verbose_level': 0,\n",
       " 'weight_regularizer': 0.01}"
      ]
     },
     "execution_count": 13,
     "metadata": {},
     "output_type": "execute_result"
    }
   ],
   "source": [
    "params = shp_clf.get_params(deep=True)\n",
    "params"
   ]
  },
  {
   "cell_type": "code",
   "execution_count": 35,
   "metadata": {},
   "outputs": [
    {
     "data": {
      "text/plain": [
       "array([[0.86452305, 0.05293344, 0.07694244, 0.00560102]], dtype=float32)"
      ]
     },
     "execution_count": 35,
     "metadata": {},
     "output_type": "execute_result"
    }
   ],
   "source": [
    "shp_clf2 = ShapeletModel(n_shapelets_per_size=shapelet_sizes,\n",
    "                        optimizer=Adagrad(lr=.1),\n",
    "                        weight_regularizer=.01,\n",
    "                        max_iter=50,\n",
    "                        verbose_level=0)\n",
    "shp_clf2.fit(X_train, y_train)\n",
    "shp_clf2.predict_proba([X_train[0]])"
   ]
  },
  {
   "cell_type": "code",
   "execution_count": 29,
   "metadata": {},
   "outputs": [
    {
     "data": {
      "text/plain": [
       "array([[0.8976512 , 0.02116926, 0.07859669, 0.00258284]], dtype=float32)"
      ]
     },
     "execution_count": 29,
     "metadata": {},
     "output_type": "execute_result"
    }
   ],
   "source": [
    "shp_clf2.set_params(**params)\n",
    "shp_clf2.predict_proba([X_train[0]])"
   ]
  },
  {
   "cell_type": "code",
   "execution_count": 33,
   "metadata": {},
   "outputs": [],
   "source": [
    "shp_clf3 = shp_clf2"
   ]
  },
  {
   "cell_type": "code",
   "execution_count": 36,
   "metadata": {},
   "outputs": [
    {
     "data": {
      "text/plain": [
       "array([[0.84487206, 0.05401782, 0.09280445, 0.00830569]], dtype=float32)"
      ]
     },
     "execution_count": 36,
     "metadata": {},
     "output_type": "execute_result"
    }
   ],
   "source": [
    "shp_clf3.predict_proba([X_train[0]])"
   ]
  }
 ],
 "metadata": {
  "kernelspec": {
   "display_name": "plasticc",
   "language": "python",
   "name": "plasticc"
  },
  "language_info": {
   "codemirror_mode": {
    "name": "ipython",
    "version": 3
   },
   "file_extension": ".py",
   "mimetype": "text/x-python",
   "name": "python",
   "nbconvert_exporter": "python",
   "pygments_lexer": "ipython3",
   "version": "3.7.2"
  }
 },
 "nbformat": 4,
 "nbformat_minor": 1
}
