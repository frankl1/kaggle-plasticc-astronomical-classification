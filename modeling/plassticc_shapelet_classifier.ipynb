{
  "cells": [
    {
      "metadata": {
        "_uuid": "8f2839f25d086af736a60e9eeb907d3b93b6e0e5",
        "_cell_guid": "b1076dfc-b9ad-4769-8c92-a6c4dae69d19",
        "trusted": true
      },
      "cell_type": "code",
      "source": "# This Python 3 environment comes with many helpful analytics libraries installed\n# It is defined by the kaggle/python docker image: https://github.com/kaggle/docker-python\n# For example, here's several helpful packages to load in \n!pip install tslearn\nimport numpy as np # linear algebra\nimport pandas as pd # data processing, CSV file I/O (e.g. pd.read_csv)\n\nfrom keras.optimizers import Adagrad\n\nfrom keras.utils import to_categorical\n\nfrom tslearn.preprocessing import TimeSeriesScalerMinMax\nfrom tslearn.shapelets import ShapeletModel, grabocka_params_to_shapelet_size_dict\n\nfrom sklearn.model_selection import cross_validate\nfrom sklearn.model_selection import StratifiedKFold\nimport sklearn.metrics as metrics\n\n# Input data files are available in the \"../input/\" directory.\n# For example, running this (by clicking run or pressing Shift+Enter) will list the files in the input directory\n\nimport os\nprint(os.listdir(\"../input\"))\n\n# Any results you write to the current directory are saved as output.",
      "execution_count": null,
      "outputs": []
    },
    {
      "metadata": {
        "trusted": true,
        "_uuid": "1b18b41c00701c1e466754831b5174e3bf9444a4"
      },
      "cell_type": "code",
      "source": "nb_of_passband = 6\ndataset_folder = \"../input/PLAsTiCC-2018\"\n!ls {dataset_folder}",
      "execution_count": null,
      "outputs": []
    },
    {
      "metadata": {
        "trusted": true,
        "_uuid": "af4c00937fff308c8581b2e0a51510d81638de99"
      },
      "cell_type": "code",
      "source": "metadata = pd.read_csv(f\"{dataset_folder}/training_set_metadata.csv\")\nmetadata.head(5)",
      "execution_count": null,
      "outputs": []
    },
    {
      "metadata": {
        "_cell_guid": "79c7e3d0-c299-4dcb-8224-4455121ee9b0",
        "_uuid": "d629ff2d2480ee46fbb7e2d37f6b5fab8052498a",
        "trusted": true
      },
      "cell_type": "code",
      "source": "X_train = pd.read_csv(\"../input/completed-lc/completed_light_curves.csv\")\nX_train.head()",
      "execution_count": null,
      "outputs": []
    },
    {
      "metadata": {
        "trusted": true,
        "_uuid": "a5ade655cb64c55bed59819c6be7c6305bf91c81"
      },
      "cell_type": "code",
      "source": "X_train.sort_values(by=\"mjd\", inplace=True)",
      "execution_count": null,
      "outputs": []
    },
    {
      "metadata": {
        "trusted": true,
        "_uuid": "bb4fa39561f572c2036b8e696bebef829ffe783a"
      },
      "cell_type": "code",
      "source": "max_mjd = X_train.mjd.max()\nmax_mjd",
      "execution_count": null,
      "outputs": []
    },
    {
      "metadata": {
        "trusted": true,
        "_uuid": "a92e934019ba404fe27ee0320da45b067e00cdd1"
      },
      "cell_type": "code",
      "source": "step = 2\nnb_of_passband=6",
      "execution_count": null,
      "outputs": []
    },
    {
      "metadata": {
        "trusted": true,
        "_uuid": "ea937890a3404d03ab72918ac2b2fe8dafe6908c"
      },
      "cell_type": "code",
      "source": "times = np.arange(0, max_mjd+1, step)\nX_train = X_train[X_train.mjd.isin(times)]",
      "execution_count": null,
      "outputs": []
    },
    {
      "metadata": {
        "trusted": true,
        "_uuid": "10c9b262ce28c0c34e1d5d969a51b2d0ad47d5c6"
      },
      "cell_type": "code",
      "source": "def format_time_series(data):\n    X = []\n    X_err = []\n    for i, row in metadata[[\"object_id\", \"target\"]].iterrows():\n#         print(row.object_id)\n        ds = data[data.object_id==row.object_id]\n        s0 = int(ds.shape[0] / nb_of_passband)\n        x, x_err = [], []\n        for p in range(nb_of_passband):\n            x = np.append(x, ds[ds.passband==p].flux.values)\n            x_err = np.append(x_err, ds[ds.passband==p].flux_err.values)\n        X.append(x.reshape(s0, nb_of_passband))\n        X_err.append(x.reshape(s0, nb_of_passband))\n    X = np.array(X)\n    X_err = np.array(X_err)\n    return X, X_err",
      "execution_count": null,
      "outputs": []
    },
    {
      "metadata": {
        "trusted": true,
        "_uuid": "a5336131f54702fecc8843a9d94c486caa338088"
      },
      "cell_type": "code",
      "source": "X_ts, X_ts_err = format_time_series(X_train)\nprint(X_ts.shape)\nprint(X_ts_err.shape)",
      "execution_count": null,
      "outputs": []
    },
    {
      "metadata": {
        "trusted": true,
        "_uuid": "a5336131f54702fecc8843a9d94c486caa338088"
      },
      "cell_type": "code",
      "source": "y = metadata.target.values\nprint(y.shape)",
      "execution_count": null,
      "outputs": []
    },
    {
      "metadata": {
        "trusted": true,
        "_uuid": "ac6003c4f33f64ca87c608665da8914487adab8b"
      },
      "cell_type": "code",
      "source": "X_ts /= (X_ts_err + 1) # +1 to avoid zero division\nX_ts = np.nan_to_num(X_ts)\nX_ts = TimeSeriesScalerMinMax().fit_transform(X_ts)\nX_ts",
      "execution_count": null,
      "outputs": []
    },
    {
      "metadata": {
        "trusted": true,
        "_uuid": "3e58eba88a1d97daf7f99044141f890270cff3c9"
      },
      "cell_type": "code",
      "source": "y",
      "execution_count": null,
      "outputs": []
    },
    {
      "metadata": {
        "trusted": true,
        "_uuid": "a58a68c395f055591f71ffe67280c214158c13b3"
      },
      "cell_type": "code",
      "source": "num_classes = np.unique(y).shape[0]\nnum_classes",
      "execution_count": null,
      "outputs": []
    },
    {
      "metadata": {
        "trusted": true,
        "_uuid": "374d87055425d7561571b2ae2569ef4939944f40"
      },
      "cell_type": "code",
      "source": "shapelet_sizes = grabocka_params_to_shapelet_size_dict(n_ts=X_ts.shape[0],\n                                                       ts_sz=X_ts.shape[1],\n                                                       n_classes=num_classes,\n                                                       l=0.1,\n                                                       r=2)\nshapelet_sizes",
      "execution_count": null,
      "outputs": []
    },
    {
      "metadata": {
        "trusted": true,
        "_uuid": "e934a7b7b72e386bbf4ed2ae2b02d5b833035f73"
      },
      "cell_type": "code",
      "source": "def get_base_model():\n    return ShapeletModel(n_shapelets_per_size=shapelet_sizes,\n                        optimizer=Adagrad(lr=.1),\n                        weight_regularizer=.01,\n                        batch_size=128,\n                        max_iter=20,\n                        verbose_level=1)",
      "execution_count": null,
      "outputs": []
    },
    {
      "metadata": {
        "trusted": true,
        "_uuid": "c3633276c7506bd99c7a94bf8757cef4a42d94e6"
      },
      "cell_type": "code",
      "source": "def compute_score(y_true, y_pred):\n    return metrics.log_loss(y_true=y_true, y_pred=y_pred)",
      "execution_count": 24,
      "outputs": []
    },
    {
      "metadata": {
        "trusted": true,
        "_uuid": "259ca9ad9285f8833145a9e044e86404437e2ead"
      },
      "cell_type": "code",
      "source": "def get_best(X, y):\n    skf = StratifiedKFold(n_splits=4)\n    splits = skf.split(X, y)\n    split = 0\n    best_score = np.finfo(np.float64).max\n    best_model = None\n    splits = skf.split(X, y)\n    model = get_base_model()\n    for train_index, test_index in splits:\n        X_train, X_test = X[train_index], X[test_index]\n        y_train, y_test = y[train_index], y[test_index]\n        model.fit(X_train, y_train)\n        score = compute_score(y_test, model.predict_proba(X_test))\n        if score < best_score:\n            best_score = score\n            best_model = model\n        print(f\"Split-{split} score is:{score}\")\n        split += 1\n    print(f\"BEST SCORE: {best_score}\")\n    return best_model",
      "execution_count": null,
      "outputs": []
    },
    {
      "metadata": {
        "trusted": true,
        "_uuid": "836f6504ed7630cb3ee85a24e3ac94b01fb1b0a0"
      },
      "cell_type": "code",
      "source": "# shp_clf = get_base_model().fit(X_ts, y)",
      "execution_count": null,
      "outputs": []
    },
    {
      "metadata": {
        "trusted": true,
        "_uuid": "b3a08ddf9e5a9377c14c6d44db2f3270fa2f87f4",
        "scrolled": false
      },
      "cell_type": "code",
      "source": "shp_clf = get_best(X_ts, y)",
      "execution_count": null,
      "outputs": []
    },
    {
      "metadata": {
        "trusted": true,
        "_uuid": "5c74d2408cdf99a51c758ddd654de4681f79d50f"
      },
      "cell_type": "code",
      "source": "pred_probas = shp_clf.predict_proba(X_ts)",
      "execution_count": null,
      "outputs": []
    },
    {
      "metadata": {
        "trusted": true,
        "_uuid": "91c463b02a49f0da37860e7bf1d3693b03cb034a"
      },
      "cell_type": "code",
      "source": "preds = shp_clf.predict(X_ts)",
      "execution_count": null,
      "outputs": []
    },
    {
      "metadata": {
        "_uuid": "720b67895e7cf43729fa45fb3923db4114a0b7f2"
      },
      "cell_type": "markdown",
      "source": "categorical_accuracy: 0.3210 - categorical_crossentropy: 2.0561  \n1964/1964 [==============================] - 1s 705us/step  \nSplit-1 score is:2.061876335903972"
    }
  ],
  "metadata": {
    "kernelspec": {
      "display_name": "Python 3",
      "language": "python",
      "name": "python3"
    },
    "language_info": {
      "name": "python",
      "version": "3.6.6",
      "mimetype": "text/x-python",
      "codemirror_mode": {
        "name": "ipython",
        "version": 3
      },
      "pygments_lexer": "ipython3",
      "nbconvert_exporter": "python",
      "file_extension": ".py"
    }
  },
  "nbformat": 4,
  "nbformat_minor": 1
}