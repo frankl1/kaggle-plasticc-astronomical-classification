{
 "cells": [
  {
   "cell_type": "code",
   "execution_count": 1,
   "metadata": {
    "_cell_guid": "b1076dfc-b9ad-4769-8c92-a6c4dae69d19",
    "_uuid": "8f2839f25d086af736a60e9eeb907d3b93b6e0e5"
   },
   "outputs": [
    {
     "data": {
      "text/plain": [
       "<Handlers.SIG_IGN: 1>"
      ]
     },
     "execution_count": 1,
     "metadata": {},
     "output_type": "execute_result"
    }
   ],
   "source": [
    "import numpy as np # linear algebra\n",
    "import pandas as pd # data processing, CSV file I/O (e.g. pd.read_csv)\n",
    "import pickle\n",
    "import time\n",
    "\n",
    "from multiprocessing import Process, Queue, Lock, Manager\n",
    "\n",
    "from tslearn.preprocessing import TimeSeriesScalerMinMax\n",
    "from tslearn.metrics import dtw_subsequence_path\n",
    "\n",
    "from signal import signal, SIGPIPE, SIG_DFL\n",
    "signal(SIGPIPE, SIG_DFL) # ignore sigpipe"
   ]
  },
  {
   "cell_type": "code",
   "execution_count": 2,
   "metadata": {
    "_uuid": "04080520ad22b8865372d0e358caf28dad9f91e3"
   },
   "outputs": [
    {
     "name": "stdout",
     "output_type": "stream",
     "text": [
      "data_note.pdf\t       test_set_metadata.csv  training_set_metadata.csv\r\n",
      "sample_submission.csv  test_set_sample.csv\r\n",
      "test_set.csv\t       training_set.csv\r\n"
     ]
    }
   ],
   "source": [
    "dataset_folder = \"../all\"\n",
    "metadata_filename = \"training_set_metadata.csv\"\n",
    "data_filename = \"training_set.csv\"\n",
    "!ls {dataset_folder}"
   ]
  },
  {
   "cell_type": "code",
   "execution_count": 3,
   "metadata": {},
   "outputs": [
    {
     "data": {
      "text/html": [
       "<div>\n",
       "<style scoped>\n",
       "    .dataframe tbody tr th:only-of-type {\n",
       "        vertical-align: middle;\n",
       "    }\n",
       "\n",
       "    .dataframe tbody tr th {\n",
       "        vertical-align: top;\n",
       "    }\n",
       "\n",
       "    .dataframe thead th {\n",
       "        text-align: right;\n",
       "    }\n",
       "</style>\n",
       "<table border=\"1\" class=\"dataframe\">\n",
       "  <thead>\n",
       "    <tr style=\"text-align: right;\">\n",
       "      <th></th>\n",
       "      <th>object_id</th>\n",
       "      <th>ra</th>\n",
       "      <th>decl</th>\n",
       "      <th>gal_l</th>\n",
       "      <th>gal_b</th>\n",
       "      <th>ddf</th>\n",
       "      <th>hostgal_specz</th>\n",
       "      <th>hostgal_photoz</th>\n",
       "      <th>hostgal_photoz_err</th>\n",
       "      <th>distmod</th>\n",
       "      <th>mwebv</th>\n",
       "      <th>target</th>\n",
       "    </tr>\n",
       "  </thead>\n",
       "  <tbody>\n",
       "    <tr>\n",
       "      <th>0</th>\n",
       "      <td>615</td>\n",
       "      <td>349.046051</td>\n",
       "      <td>-61.943836</td>\n",
       "      <td>320.796530</td>\n",
       "      <td>-51.753706</td>\n",
       "      <td>1</td>\n",
       "      <td>0.0000</td>\n",
       "      <td>0.0000</td>\n",
       "      <td>0.0000</td>\n",
       "      <td>NaN</td>\n",
       "      <td>0.017</td>\n",
       "      <td>92</td>\n",
       "    </tr>\n",
       "    <tr>\n",
       "      <th>1</th>\n",
       "      <td>713</td>\n",
       "      <td>53.085938</td>\n",
       "      <td>-27.784405</td>\n",
       "      <td>223.525509</td>\n",
       "      <td>-54.460748</td>\n",
       "      <td>1</td>\n",
       "      <td>1.8181</td>\n",
       "      <td>1.6267</td>\n",
       "      <td>0.2552</td>\n",
       "      <td>45.4063</td>\n",
       "      <td>0.007</td>\n",
       "      <td>88</td>\n",
       "    </tr>\n",
       "    <tr>\n",
       "      <th>2</th>\n",
       "      <td>730</td>\n",
       "      <td>33.574219</td>\n",
       "      <td>-6.579593</td>\n",
       "      <td>170.455585</td>\n",
       "      <td>-61.548219</td>\n",
       "      <td>1</td>\n",
       "      <td>0.2320</td>\n",
       "      <td>0.2262</td>\n",
       "      <td>0.0157</td>\n",
       "      <td>40.2561</td>\n",
       "      <td>0.021</td>\n",
       "      <td>42</td>\n",
       "    </tr>\n",
       "    <tr>\n",
       "      <th>3</th>\n",
       "      <td>745</td>\n",
       "      <td>0.189873</td>\n",
       "      <td>-45.586655</td>\n",
       "      <td>328.254458</td>\n",
       "      <td>-68.969298</td>\n",
       "      <td>1</td>\n",
       "      <td>0.3037</td>\n",
       "      <td>0.2813</td>\n",
       "      <td>1.1523</td>\n",
       "      <td>40.7951</td>\n",
       "      <td>0.007</td>\n",
       "      <td>90</td>\n",
       "    </tr>\n",
       "    <tr>\n",
       "      <th>4</th>\n",
       "      <td>1124</td>\n",
       "      <td>352.711273</td>\n",
       "      <td>-63.823658</td>\n",
       "      <td>316.922299</td>\n",
       "      <td>-51.059403</td>\n",
       "      <td>1</td>\n",
       "      <td>0.1934</td>\n",
       "      <td>0.2415</td>\n",
       "      <td>0.0176</td>\n",
       "      <td>40.4166</td>\n",
       "      <td>0.024</td>\n",
       "      <td>90</td>\n",
       "    </tr>\n",
       "  </tbody>\n",
       "</table>\n",
       "</div>"
      ],
      "text/plain": [
       "   object_id          ra       decl       gal_l      gal_b  ddf  \\\n",
       "0        615  349.046051 -61.943836  320.796530 -51.753706    1   \n",
       "1        713   53.085938 -27.784405  223.525509 -54.460748    1   \n",
       "2        730   33.574219  -6.579593  170.455585 -61.548219    1   \n",
       "3        745    0.189873 -45.586655  328.254458 -68.969298    1   \n",
       "4       1124  352.711273 -63.823658  316.922299 -51.059403    1   \n",
       "\n",
       "   hostgal_specz  hostgal_photoz  hostgal_photoz_err  distmod  mwebv  target  \n",
       "0         0.0000          0.0000              0.0000      NaN  0.017      92  \n",
       "1         1.8181          1.6267              0.2552  45.4063  0.007      88  \n",
       "2         0.2320          0.2262              0.0157  40.2561  0.021      42  \n",
       "3         0.3037          0.2813              1.1523  40.7951  0.007      90  \n",
       "4         0.1934          0.2415              0.0176  40.4166  0.024      90  "
      ]
     },
     "execution_count": 3,
     "metadata": {},
     "output_type": "execute_result"
    }
   ],
   "source": [
    "metadata = pd.read_csv(\"{}/{}\".format(dataset_folder, metadata_filename))\n",
    "metadata.head()"
   ]
  },
  {
   "cell_type": "code",
   "execution_count": 4,
   "metadata": {},
   "outputs": [
    {
     "name": "stdout",
     "output_type": "stream",
     "text": [
      "7848 objects to predict\n"
     ]
    }
   ],
   "source": [
    "object_ids = metadata.object_id.values\n",
    "print(\"{} objects to predict\".format(object_ids.size))"
   ]
  },
  {
   "cell_type": "code",
   "execution_count": 5,
   "metadata": {
    "_uuid": "33056c608580bc2a4c7e62473584ea1daa2852a6"
   },
   "outputs": [],
   "source": [
    "def read_pickle(name):\n",
    "    with open(name, 'rb') as f:\n",
    "        data = pickle.load(f)\n",
    "    return data"
   ]
  },
  {
   "cell_type": "code",
   "execution_count": 6,
   "metadata": {
    "_uuid": "9d4f14b901c5019279b081e35e49bbe1011571a3"
   },
   "outputs": [
    {
     "name": "stdout",
     "output_type": "stream",
     "text": [
      "(36,)\n"
     ]
    },
    {
     "name": "stderr",
     "output_type": "stream",
     "text": [
      "/home/frankl1/.env/plasticc/lib/python3.7/site-packages/sklearn/base.py:251: UserWarning: Trying to unpickle estimator LabelEncoder from version 0.20.3 when using version 0.20.2. This might lead to breaking code or invalid results. Use at your own risk.\n",
      "  UserWarning)\n"
     ]
    }
   ],
   "source": [
    "xg_model = read_pickle(\"xg_model\")\n",
    "shapelets = read_pickle(\"shapelets\")\n",
    "print(shapelets.shape)"
   ]
  },
  {
   "cell_type": "code",
   "execution_count": 7,
   "metadata": {},
   "outputs": [
    {
     "name": "stdout",
     "output_type": "stream",
     "text": [
      "classes:  [ 6 15 16 42 52 53 62 64 65 67 88 90 92 95 99]\n"
     ]
    }
   ],
   "source": [
    "classes = np.array([ 6, 15, 16, 42, 52, 53, 62, 64, 65, 67, 88, 90, 92, 95, 99])\n",
    "print(\"classes: \", classes)"
   ]
  },
  {
   "cell_type": "code",
   "execution_count": 8,
   "metadata": {
    "_uuid": "457c503b115c91dbe73b5c0892727b90b93d5638"
   },
   "outputs": [],
   "source": [
    "def normalize(ts, ts_err):\n",
    "    ts /= (ts_err + 1) # +1 to avoid zero division\n",
    "    ts = np.nan_to_num(ts)\n",
    "    ts = TimeSeriesScalerMinMax().fit_transform(ts)\n",
    "    return ts"
   ]
  },
  {
   "cell_type": "code",
   "execution_count": 9,
   "metadata": {
    "_uuid": "f56d7fd6a0cc3497a954152392f4f5af9c14e55b"
   },
   "outputs": [],
   "source": [
    "def distanceToShapelet(ts, shapelet):\n",
    "    path, dist = dtw_subsequence_path(shapelet, ts)\n",
    "    return dist"
   ]
  },
  {
   "cell_type": "code",
   "execution_count": 10,
   "metadata": {
    "_uuid": "4dbb7c04ef192f4c9d8d8da77469071793d0976f"
   },
   "outputs": [],
   "source": [
    "def distanceToShapelets(ts, shapelets=shapelets):\n",
    "    return [distanceToShapelet(ts, shapelet) for shapelet in shapelets]"
   ]
  },
  {
   "cell_type": "code",
   "execution_count": 11,
   "metadata": {},
   "outputs": [
    {
     "name": "stdout",
     "output_type": "stream",
     "text": [
      "6\n",
      "1094\n"
     ]
    }
   ],
   "source": [
    "step = 1\n",
    "nb_of_passband = 6\n",
    "max_mjd = 1094\n",
    "max_nb_of_processes = 3\n",
    "print(nb_of_passband, max_mjd, sep=\"\\n\")"
   ]
  },
  {
   "cell_type": "code",
   "execution_count": 12,
   "metadata": {
    "_uuid": "550d47c472c3fc7b32b83611d0a4898693a528d2"
   },
   "outputs": [],
   "source": [
    "def format_time_series(data):\n",
    "    X = []\n",
    "    X_err = []\n",
    "    s0 = int(data.shape[0] / nb_of_passband)\n",
    "    x, x_err = [], []\n",
    "    for p in range(nb_of_passband):\n",
    "        x = np.append(x, data[data.passband==p].flux.values)\n",
    "        x_err = np.append(x_err, data[data.passband==p].flux_err.values)\n",
    "    X.append(x.reshape(s0, nb_of_passband))\n",
    "    X_err.append(x.reshape(s0, nb_of_passband))\n",
    "    return np.array(X), np.array(X_err)"
   ]
  },
  {
   "cell_type": "code",
   "execution_count": 13,
   "metadata": {
    "_uuid": "8081ffcc7b4f543c9912a0bf5a2ee3cef1d73151"
   },
   "outputs": [],
   "source": [
    "def mjdToPredict(mjdToExclude, minMjd, maxMjd, step):\n",
    "    return np.array(list(set(range(minMjd, maxMjd+1, step)) - set(mjdToExclude)))"
   ]
  },
  {
   "cell_type": "code",
   "execution_count": 14,
   "metadata": {
    "_uuid": "a8574d964eb827282b7ffe1c01655084bae21328"
   },
   "outputs": [],
   "source": [
    "def fill_missing_flux(objectDf, maxMjd, step):\n",
    "    objectDf.mjd = objectDf[[\"mjd\"]].astype(np.int64)\n",
    "    objectDf.mjd = objectDf.mjd - objectDf.mjd.min()\n",
    "    instance = objectDf.groupby([\"passband\", \"mjd\"]).mean().reset_index()\n",
    "    meanByPassband = instance.groupby(\"passband\").mean()[[\"flux\", \"flux_err\"]]\n",
    "    frames = [instance]\n",
    "    for p in range(6):\n",
    "        toExclude = instance[instance.passband==p].mjd\n",
    "        toPredict = mjdToPredict(toExclude, 0, maxMjd, step)\n",
    "        nb = len(toPredict)\n",
    "        frames.append(pd.DataFrame({\n",
    "            'mjd': toPredict,\n",
    "            'flux': [meanByPassband.loc[p].flux]*nb,\n",
    "            'flux_err': [meanByPassband.loc[p].flux_err]*nb,\n",
    "            'detected': [-1] * nb,\n",
    "            'passband': [p]*nb,\n",
    "            'object_id': [objectDf.object_id.values[0]]*nb\n",
    "        }))\n",
    "    return pd.concat(frames, sort=False)"
   ]
  },
  {
   "cell_type": "code",
   "execution_count": 15,
   "metadata": {
    "_uuid": "f9b1b06779bcb220098a6d67ee02808247ef1d76"
   },
   "outputs": [],
   "source": [
    "def predict_object(test_df):\n",
    "    instance = fill_missing_flux(test_df, max_mjd, step)\n",
    "    ts, ts_err = format_time_series(instance)\n",
    "    ts_norm = normalize(ts, ts_err)\n",
    "    dist_vec = distanceToShapelets(ts_norm[0], shapelets)\n",
    "    preds = xg_model.predict_proba([dist_vec])[0]\n",
    "    preds = np.concatenate(([test_df.object_id.values[0]], preds, [0]))\n",
    "    return preds"
   ]
  },
  {
   "cell_type": "code",
   "execution_count": 16,
   "metadata": {},
   "outputs": [],
   "source": [
    "def producer_task(queue):\n",
    "    data = pd.read_csv(\"{}/{}\".format(dataset_folder, data_filename))\n",
    "    for oid in object_ids[:20]:\n",
    "#         print(\"Object {} produced\".format(oid))\n",
    "        object_df = data[data.object_id == oid]\n",
    "        queue.put(object_df)"
   ]
  },
  {
   "cell_type": "code",
   "execution_count": 17,
   "metadata": {},
   "outputs": [],
   "source": [
    "def consumer_task(queue, lock, submission): \n",
    "    # Run indefinitely\n",
    "    while True:\n",
    "        # If the queue is empty, queue.get() will block until the queue has data\n",
    "        object_df = queue.get()\n",
    "        preds = predict_object(object_df)\n",
    "#         print(\"Object {} consumed\".format(preds[0]))\n",
    "        # Synchronize access to the console\n",
    "        with lock:\n",
    "            submission.append(preds)"
   ]
  },
  {
   "cell_type": "code",
   "execution_count": 18,
   "metadata": {
    "_uuid": "a3ca6684f3e7b895cce2e6439511862b055b24f2"
   },
   "outputs": [],
   "source": [
    "def predict_test_set(predictions, nb_lines, max_nb_of_processes = 2):\n",
    "    object_queue = Queue()\n",
    "\n",
    "    lock = Lock()\n",
    "\n",
    "    consumers = []\n",
    "\n",
    "    producer = Process(target=producer_task, args=(object_queue,))\n",
    "\n",
    "    for i in range(max_nb_of_processes):\n",
    "        p = Process(target=consumer_task, args=(object_queue, lock, predictions))\n",
    "\n",
    "        # This is critical! The consumer function has an infinite loop\n",
    "        # Which means it will never exit unless we set daemon to true\n",
    "        p.daemon = True\n",
    "        consumers.append(p)\n",
    "\n",
    "    producer.start()\n",
    "\n",
    "    for c in consumers:\n",
    "        c.start()\n",
    "\n",
    "    len_preds = len(predictions)\n",
    "    while len_preds < nb_lines:\n",
    "        len_preds = len(predictions)\n",
    "        print(\"{} / {} -> {} %\".format(len_preds, nb_lines, np.round(len_preds * 100 / nb_lines if len_preds > 0 else 0)))\n",
    "        time.sleep(2)\n",
    "        \n",
    "    print(\"{} %\".format(np.round(len_preds * 100 / nb_lines if len_preds > 0 else 0)))\n",
    "    print(\"Producer finished\")"
   ]
  },
  {
   "cell_type": "code",
   "execution_count": 19,
   "metadata": {
    "_uuid": "fec93e7b5efd71aed423a48d50d78fe3142d4834"
   },
   "outputs": [
    {
     "name": "stdout",
     "output_type": "stream",
     "text": [
      "0 / 20 -> 0 %\n",
      "0 / 20 -> 0 %\n",
      "9 / 20 -> 45.0 %\n",
      "19 / 20 -> 95.0 %\n",
      "20 / 20 -> 100.0 %\n",
      "100.0 %\n",
      "Producer finished\n",
      "CPU times: user 46.2 ms, sys: 77.8 ms, total: 124 ms\n",
      "Wall time: 10.2 s\n"
     ]
    }
   ],
   "source": [
    "%%time\n",
    "manager = Manager()\n",
    "\n",
    "predictions = manager.list()\n",
    "\n",
    "predict_test_set(predictions, 20, max_nb_of_processes=max_nb_of_processes)"
   ]
  },
  {
   "cell_type": "code",
   "execution_count": 20,
   "metadata": {},
   "outputs": [
    {
     "name": "stdout",
     "output_type": "stream",
     "text": [
      "(20, 16)\n"
     ]
    }
   ],
   "source": [
    "columns = [\"object_id\"]\n",
    "columns.extend([f\"class_{c}\" for c in classes])\n",
    "submission = pd.DataFrame(columns = columns, data=list(predictions))\n",
    "submission.object_id = submission.object_id.astype(np.int32)\n",
    "print(submission.shape)"
   ]
  },
  {
   "cell_type": "code",
   "execution_count": 21,
   "metadata": {
    "_uuid": "2278962ea5a2bcd6108712959add31c861c807e1"
   },
   "outputs": [],
   "source": [
    "submission.to_csv(\"submission.csv\", index=False)"
   ]
  }
 ],
 "metadata": {
  "kernelspec": {
   "display_name": "plasticc",
   "language": "python",
   "name": "plasticc"
  },
  "language_info": {
   "codemirror_mode": {
    "name": "ipython",
    "version": 3
   },
   "file_extension": ".py",
   "mimetype": "text/x-python",
   "name": "python",
   "nbconvert_exporter": "python",
   "pygments_lexer": "ipython3",
   "version": "3.7.3"
  }
 },
 "nbformat": 4,
 "nbformat_minor": 1
}
