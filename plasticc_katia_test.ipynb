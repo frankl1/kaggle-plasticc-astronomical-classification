{
 "cells": [
  {
   "cell_type": "code",
   "execution_count": 1,
   "metadata": {},
   "outputs": [],
   "source": [
    "import pandas as pd\n",
    "import numpy as np\n",
    "import matplotlib.pyplot as plt\n",
    "import seaborn as sns\n",
    "from sklearn.model_selection import train_test_split\n",
    "from scipy import optimize"
   ]
  },
  {
   "cell_type": "code",
   "execution_count": 2,
   "metadata": {},
   "outputs": [
    {
     "data": {
      "text/html": [
       "<div>\n",
       "<style scoped>\n",
       "    .dataframe tbody tr th:only-of-type {\n",
       "        vertical-align: middle;\n",
       "    }\n",
       "\n",
       "    .dataframe tbody tr th {\n",
       "        vertical-align: top;\n",
       "    }\n",
       "\n",
       "    .dataframe thead th {\n",
       "        text-align: right;\n",
       "    }\n",
       "</style>\n",
       "<table border=\"1\" class=\"dataframe\">\n",
       "  <thead>\n",
       "    <tr style=\"text-align: right;\">\n",
       "      <th></th>\n",
       "      <th>object_id</th>\n",
       "      <th>ra</th>\n",
       "      <th>decl</th>\n",
       "      <th>gal_l</th>\n",
       "      <th>gal_b</th>\n",
       "      <th>ddf</th>\n",
       "      <th>hostgal_specz</th>\n",
       "      <th>hostgal_photoz</th>\n",
       "      <th>hostgal_photoz_err</th>\n",
       "      <th>distmod</th>\n",
       "      <th>mwebv</th>\n",
       "      <th>target</th>\n",
       "    </tr>\n",
       "  </thead>\n",
       "  <tbody>\n",
       "    <tr>\n",
       "      <th>0</th>\n",
       "      <td>615</td>\n",
       "      <td>349.046051</td>\n",
       "      <td>-61.943836</td>\n",
       "      <td>320.796530</td>\n",
       "      <td>-51.753706</td>\n",
       "      <td>1</td>\n",
       "      <td>0.0000</td>\n",
       "      <td>0.0000</td>\n",
       "      <td>0.0000</td>\n",
       "      <td>NaN</td>\n",
       "      <td>0.017</td>\n",
       "      <td>92</td>\n",
       "    </tr>\n",
       "    <tr>\n",
       "      <th>1</th>\n",
       "      <td>713</td>\n",
       "      <td>53.085938</td>\n",
       "      <td>-27.784405</td>\n",
       "      <td>223.525509</td>\n",
       "      <td>-54.460748</td>\n",
       "      <td>1</td>\n",
       "      <td>1.8181</td>\n",
       "      <td>1.6267</td>\n",
       "      <td>0.2552</td>\n",
       "      <td>45.4063</td>\n",
       "      <td>0.007</td>\n",
       "      <td>88</td>\n",
       "    </tr>\n",
       "    <tr>\n",
       "      <th>2</th>\n",
       "      <td>730</td>\n",
       "      <td>33.574219</td>\n",
       "      <td>-6.579593</td>\n",
       "      <td>170.455585</td>\n",
       "      <td>-61.548219</td>\n",
       "      <td>1</td>\n",
       "      <td>0.2320</td>\n",
       "      <td>0.2262</td>\n",
       "      <td>0.0157</td>\n",
       "      <td>40.2561</td>\n",
       "      <td>0.021</td>\n",
       "      <td>42</td>\n",
       "    </tr>\n",
       "    <tr>\n",
       "      <th>3</th>\n",
       "      <td>745</td>\n",
       "      <td>0.189873</td>\n",
       "      <td>-45.586655</td>\n",
       "      <td>328.254458</td>\n",
       "      <td>-68.969298</td>\n",
       "      <td>1</td>\n",
       "      <td>0.3037</td>\n",
       "      <td>0.2813</td>\n",
       "      <td>1.1523</td>\n",
       "      <td>40.7951</td>\n",
       "      <td>0.007</td>\n",
       "      <td>90</td>\n",
       "    </tr>\n",
       "    <tr>\n",
       "      <th>4</th>\n",
       "      <td>1124</td>\n",
       "      <td>352.711273</td>\n",
       "      <td>-63.823658</td>\n",
       "      <td>316.922299</td>\n",
       "      <td>-51.059403</td>\n",
       "      <td>1</td>\n",
       "      <td>0.1934</td>\n",
       "      <td>0.2415</td>\n",
       "      <td>0.0176</td>\n",
       "      <td>40.4166</td>\n",
       "      <td>0.024</td>\n",
       "      <td>90</td>\n",
       "    </tr>\n",
       "  </tbody>\n",
       "</table>\n",
       "</div>"
      ],
      "text/plain": [
       "   object_id          ra       decl       gal_l      gal_b  ddf  \\\n",
       "0        615  349.046051 -61.943836  320.796530 -51.753706    1   \n",
       "1        713   53.085938 -27.784405  223.525509 -54.460748    1   \n",
       "2        730   33.574219  -6.579593  170.455585 -61.548219    1   \n",
       "3        745    0.189873 -45.586655  328.254458 -68.969298    1   \n",
       "4       1124  352.711273 -63.823658  316.922299 -51.059403    1   \n",
       "\n",
       "   hostgal_specz  hostgal_photoz  hostgal_photoz_err  distmod  mwebv  target  \n",
       "0         0.0000          0.0000              0.0000      NaN  0.017      92  \n",
       "1         1.8181          1.6267              0.2552  45.4063  0.007      88  \n",
       "2         0.2320          0.2262              0.0157  40.2561  0.021      42  \n",
       "3         0.3037          0.2813              1.1523  40.7951  0.007      90  \n",
       "4         0.1934          0.2415              0.0176  40.4166  0.024      90  "
      ]
     },
     "execution_count": 2,
     "metadata": {},
     "output_type": "execute_result"
    }
   ],
   "source": [
    "meta_data= pd.read_csv(\"C:/Users/LARBI/Desktop/traveaux master2 info/semestre2/etude de cas decisionnel/data/training_set_metadata.csv\")\n",
    "\n",
    "meta_data.head()"
   ]
  },
  {
   "cell_type": "code",
   "execution_count": 3,
   "metadata": {},
   "outputs": [
    {
     "data": {
      "text/html": [
       "<div>\n",
       "<style scoped>\n",
       "    .dataframe tbody tr th:only-of-type {\n",
       "        vertical-align: middle;\n",
       "    }\n",
       "\n",
       "    .dataframe tbody tr th {\n",
       "        vertical-align: top;\n",
       "    }\n",
       "\n",
       "    .dataframe thead th {\n",
       "        text-align: right;\n",
       "    }\n",
       "</style>\n",
       "<table border=\"1\" class=\"dataframe\">\n",
       "  <thead>\n",
       "    <tr style=\"text-align: right;\">\n",
       "      <th></th>\n",
       "      <th>object_id</th>\n",
       "      <th>mjd</th>\n",
       "      <th>passband</th>\n",
       "      <th>flux</th>\n",
       "      <th>flux_err</th>\n",
       "      <th>detected</th>\n",
       "    </tr>\n",
       "  </thead>\n",
       "  <tbody>\n",
       "    <tr>\n",
       "      <th>count</th>\n",
       "      <td>1.421705e+06</td>\n",
       "      <td>1.421705e+06</td>\n",
       "      <td>1.421705e+06</td>\n",
       "      <td>1.421705e+06</td>\n",
       "      <td>1.421705e+06</td>\n",
       "      <td>1.421705e+06</td>\n",
       "    </tr>\n",
       "    <tr>\n",
       "      <th>mean</th>\n",
       "      <td>3.392608e+07</td>\n",
       "      <td>6.017921e+04</td>\n",
       "      <td>2.783108e+00</td>\n",
       "      <td>2.468855e+01</td>\n",
       "      <td>2.548932e+01</td>\n",
       "      <td>1.666168e-01</td>\n",
       "    </tr>\n",
       "    <tr>\n",
       "      <th>std</th>\n",
       "      <td>4.258439e+07</td>\n",
       "      <td>3.092379e+02</td>\n",
       "      <td>1.703946e+00</td>\n",
       "      <td>3.684506e+03</td>\n",
       "      <td>3.814492e+03</td>\n",
       "      <td>3.726336e-01</td>\n",
       "    </tr>\n",
       "    <tr>\n",
       "      <th>min</th>\n",
       "      <td>6.150000e+02</td>\n",
       "      <td>5.958003e+04</td>\n",
       "      <td>0.000000e+00</td>\n",
       "      <td>-1.149388e+06</td>\n",
       "      <td>4.637530e-01</td>\n",
       "      <td>0.000000e+00</td>\n",
       "    </tr>\n",
       "    <tr>\n",
       "      <th>25%</th>\n",
       "      <td>1.843400e+05</td>\n",
       "      <td>5.989905e+04</td>\n",
       "      <td>1.000000e+00</td>\n",
       "      <td>-2.789418e+00</td>\n",
       "      <td>2.118670e+00</td>\n",
       "      <td>0.000000e+00</td>\n",
       "    </tr>\n",
       "    <tr>\n",
       "      <th>50%</th>\n",
       "      <td>4.548783e+06</td>\n",
       "      <td>6.019331e+04</td>\n",
       "      <td>3.000000e+00</td>\n",
       "      <td>7.331990e-01</td>\n",
       "      <td>4.708105e+00</td>\n",
       "      <td>0.000000e+00</td>\n",
       "    </tr>\n",
       "    <tr>\n",
       "      <th>75%</th>\n",
       "      <td>6.796280e+07</td>\n",
       "      <td>6.048722e+04</td>\n",
       "      <td>4.000000e+00</td>\n",
       "      <td>8.830932e+00</td>\n",
       "      <td>1.297371e+01</td>\n",
       "      <td>0.000000e+00</td>\n",
       "    </tr>\n",
       "    <tr>\n",
       "      <th>max</th>\n",
       "      <td>1.307798e+08</td>\n",
       "      <td>6.067436e+04</td>\n",
       "      <td>5.000000e+00</td>\n",
       "      <td>2.432809e+06</td>\n",
       "      <td>2.234069e+06</td>\n",
       "      <td>1.000000e+00</td>\n",
       "    </tr>\n",
       "  </tbody>\n",
       "</table>\n",
       "</div>"
      ],
      "text/plain": [
       "          object_id           mjd      passband          flux      flux_err  \\\n",
       "count  1.421705e+06  1.421705e+06  1.421705e+06  1.421705e+06  1.421705e+06   \n",
       "mean   3.392608e+07  6.017921e+04  2.783108e+00  2.468855e+01  2.548932e+01   \n",
       "std    4.258439e+07  3.092379e+02  1.703946e+00  3.684506e+03  3.814492e+03   \n",
       "min    6.150000e+02  5.958003e+04  0.000000e+00 -1.149388e+06  4.637530e-01   \n",
       "25%    1.843400e+05  5.989905e+04  1.000000e+00 -2.789418e+00  2.118670e+00   \n",
       "50%    4.548783e+06  6.019331e+04  3.000000e+00  7.331990e-01  4.708105e+00   \n",
       "75%    6.796280e+07  6.048722e+04  4.000000e+00  8.830932e+00  1.297371e+01   \n",
       "max    1.307798e+08  6.067436e+04  5.000000e+00  2.432809e+06  2.234069e+06   \n",
       "\n",
       "           detected  \n",
       "count  1.421705e+06  \n",
       "mean   1.666168e-01  \n",
       "std    3.726336e-01  \n",
       "min    0.000000e+00  \n",
       "25%    0.000000e+00  \n",
       "50%    0.000000e+00  \n",
       "75%    0.000000e+00  \n",
       "max    1.000000e+00  "
      ]
     },
     "execution_count": 3,
     "metadata": {},
     "output_type": "execute_result"
    }
   ],
   "source": [
    "training_set = pd.read_csv(\"C:/Users/LARBI/Desktop/traveaux master2 info/semestre2/etude de cas decisionnel/data/training_set.csv\")\n",
    "training_set.describe()"
   ]
  },
  {
   "cell_type": "code",
   "execution_count": 4,
   "metadata": {},
   "outputs": [],
   "source": [
    "%matplotlib inline"
   ]
  },
  {
   "cell_type": "code",
   "execution_count": 5,
   "metadata": {},
   "outputs": [],
   "source": [
    "targets = np.hstack([np.unique(meta_data['target']), [99]])\n",
    "target_map = {j:i for i, j in enumerate(targets)}\n",
    "target_ids = [target_map[i] for i in meta_data['target']]\n",
    "meta_data['target_id'] = target_ids"
   ]
  },
  {
   "cell_type": "code",
   "execution_count": 6,
   "metadata": {},
   "outputs": [
    {
     "data": {
      "image/png": "[encoded data removed]",
      "text/plain": [
       "<Figure size 720x576 with 1 Axes>"
      ]
     },
     "metadata": {
      "needs_background": "light"
     },
     "output_type": "display_data"
    }
   ],
   "source": [
    "galactic_cut = meta_data['hostgal_specz'] == 0\n",
    "plt.figure(figsize=(10, 8))\n",
    "plt.hist(meta_data[galactic_cut]['target_id'], 15, (0, 15), label='Galactique')\n",
    "plt.hist(meta_data[~galactic_cut]['target_id'], 15, (0, 15), label='Extragalactique')\n",
    "plt.xticks(np.arange(15)+0.5,   targets)\n",
    "plt.gca().set_yscale(\"log\")\n",
    "plt.xlabel('Classe')\n",
    "plt.ylabel('nombre')\n",
    "plt.xlim(0, 15)\n",
    "plt.legend();"
   ]
  },
  {
   "cell_type": "code",
   "execution_count": 7,
   "metadata": {},
   "outputs": [],
   "source": [
    "target_types={6:'Microlensing', 15:'Explosive Type V', 16:'Transits', 42:'Explosive type W', 52:'Explosive Type X', \n",
    "                  53:'Long periodic', 62:'Explosive Type Y', 64:'Near Burst', 65:'Flare', 67:'Explosive Type Z',\n",
    "                  88:'AGN', 90:'SN Type U', 92:'Periodic', 95:'SN Type T'}\n"
   ]
  },
  {
   "cell_type": "code",
   "execution_count": 8,
   "metadata": {},
   "outputs": [
    {
     "ename": "NameError",
     "evalue": "name 'times' is not defined",
     "output_type": "error",
     "traceback": [
      "\u001b[1;31m---------------------------------------------------------------------------\u001b[0m",
      "\u001b[1;31mNameError\u001b[0m                                 Traceback (most recent call last)",
      "\u001b[1;32m<ipython-input-8-b7f2683420ac>\u001b[0m in \u001b[0;36m<module>\u001b[1;34m\u001b[0m\n\u001b[1;32m----> 1\u001b[1;33m \u001b[0mobject_list\u001b[0m\u001b[1;33m=\u001b[0m\u001b[0mtimes\u001b[0m\u001b[1;33m.\u001b[0m\u001b[0mgroupby\u001b[0m\u001b[1;33m(\u001b[0m\u001b[1;34m'object_id'\u001b[0m\u001b[1;33m)\u001b[0m\u001b[1;33m.\u001b[0m\u001b[0mapply\u001b[0m\u001b[1;33m(\u001b[0m\u001b[1;32mlambda\u001b[0m \u001b[0mx\u001b[0m\u001b[1;33m:\u001b[0m \u001b[0mx\u001b[0m\u001b[1;33m[\u001b[0m\u001b[1;34m'object_id'\u001b[0m\u001b[1;33m]\u001b[0m\u001b[1;33m.\u001b[0m\u001b[0munique\u001b[0m\u001b[1;33m(\u001b[0m\u001b[1;33m)\u001b[0m\u001b[1;33m[\u001b[0m\u001b[1;36m0\u001b[0m\u001b[1;33m]\u001b[0m\u001b[1;33m)\u001b[0m\u001b[1;33m.\u001b[0m\u001b[0mtolist\u001b[0m\u001b[1;33m(\u001b[0m\u001b[1;33m)\u001b[0m\u001b[1;33m\u001b[0m\u001b[1;33m\u001b[0m\u001b[0m\n\u001b[0m",
      "\u001b[1;31mNameError\u001b[0m: name 'times' is not defined"
     ]
    }
   ],
   "source": [
    "object_list=times.groupby('object_id').apply(lambda x: x['object_id'].unique()[0]).tolist()\n"
   ]
  },
  {
   "cell_type": "code",
   "execution_count": null,
   "metadata": {},
   "outputs": [],
   "source": [
    "colors = ['purple', 'blue', 'green', 'orange', 'red', 'black']\n",
    "\n",
    "def plot_one_object(obj_id):\n",
    "        \n",
    "    for band in range(len(colors)):\n",
    "        sample = train_series[(train_series['object_id'] == obj_id) & (train_series['passband']==band)]\n",
    "        plt.errorbar(x=sample['mjd'],y=sample['flux'],yerr=sample['flux_err'],c = colors[band],fmt='o',alpha=0.7)"
   ]
  },
  {
   "cell_type": "code",
   "execution_count": null,
   "metadata": {},
   "outputs": [],
   "source": [
    "for t in sorted(meta_data['target'].unique()):\n",
    "    print (t,meta_data[meta_data['target']== t]['target'].count(),target_types[t],meta_data[meta_data['target']== t]['hostgal_specz'].mean())"
   ]
  },
  {
   "cell_type": "code",
   "execution_count": null,
   "metadata": {},
   "outputs": [],
   "source": [
    "null_columns=meta_data.columns[meta_data.isnull().any()]\n",
    "meta_data[null_columns].isnull().sum()"
   ]
  },
  {
   "cell_type": "code",
   "execution_count": null,
   "metadata": {},
   "outputs": [],
   "source": [
    "groups = training_set.groupby(['object_id', 'passband'])"
   ]
  },
  {
   "cell_type": "code",
   "execution_count": null,
   "metadata": {},
   "outputs": [],
   "source": [
    "times = groups.apply(\n",
    "    lambda block: block['mjd'].values).reset_index().rename(columns={0: 'seq'})\n",
    "flux = groups.apply(\n",
    "    lambda block: block['flux'].values\n",
    ").reset_index().rename(columns={0: 'seq'})\n",
    "err = groups.apply(\n",
    "    lambda block: block['flux_err'].values\n",
    ").reset_index().rename(columns={0: 'seq'})\n",
    "det = groups.apply(\n",
    "    lambda block: block['detected'].astype(bool).values\n",
    ").reset_index().rename(columns={0: 'seq'})\n",
    "times_list = times.groupby('object_id').apply(lambda x: x['seq'].tolist()).tolist()\n",
    "flux_list = flux.groupby('object_id').apply(lambda x: x['seq'].tolist()).tolist()\n",
    "err_list = err.groupby('object_id').apply(lambda x: x['seq'].tolist()).tolist()\n",
    "det_list = det.groupby('object_id').apply(lambda x: x['seq'].tolist()).tolist()\n"
   ]
  },
  {
   "cell_type": "code",
   "execution_count": null,
   "metadata": {},
   "outputs": [],
   "source": [
    "flux.head()"
   ]
  },
  {
   "cell_type": "code",
   "execution_count": null,
   "metadata": {},
   "outputs": [],
   "source": [
    "object_list=times.groupby('object_id').apply(lambda x: x['object_id'].unique()[0]).tolist()\n"
   ]
  },
  {
   "cell_type": "code",
   "execution_count": null,
   "metadata": {},
   "outputs": [],
   "source": [
    "colors = ['purple', 'blue', 'green', 'orange', 'red', 'black']\n",
    "\n",
    "def plot_one_object(obj_id):\n",
    "        \n",
    "    for band in range(len(colors)):\n",
    "        sample = training_set[(training_set['object_id'] == obj_id) & (training_set['passband']==band)]\n",
    "        plt.errorbar(x=sample['mjd'],y=sample['flux'],yerr=sample['flux_err'],c = colors[band],fmt='o',alpha=0.7)"
   ]
  },
  {
   "cell_type": "code",
   "execution_count": null,
   "metadata": {},
   "outputs": [],
   "source": [
    "for t in sorted(meta_data['target'].unique()):\n",
    "    print (t,meta_data[meta_data['target']== t]['target'].count(),target_types[t],meta_data[meta_data['target']== t]['hostgal_specz'].mean())"
   ]
  },
  {
   "cell_type": "code",
   "execution_count": null,
   "metadata": {},
   "outputs": [],
   "source": [
    "def fit_kernel_length_only(times_band,flux_band,err_band):\n",
    "    \n",
    "    def _kernel_likelihood(length):\n",
    "        sigma=siguess\n",
    "        #length=params\n",
    "        kernel=np.exp(-(np.reshape(times_band,(-1,1)) - times_band)**2/2/length**2)\n",
    "        np.fill_diagonal(kernel,0)\n",
    "        sumw=kernel.dot(1./err_band**2) + 1./sigma**2\n",
    "        pred=kernel.dot(flux_band/err_band**2) / sumw\n",
    "        chi2 = (pred - flux_band)**2 / ( err_band**2 + 1./sumw )\n",
    "        # -2 ln likelihood\n",
    "        logl=np.sum(chi2 + np.log(err_band**2 + 1./sumw))\n",
    "        return logl\n",
    "    \n",
    "    lguess=(np.max(times_band)-np.min(times_band))/len(times_band)\n",
    "    siguess=np.std(flux_band)\n",
    "    output=optimize.fmin(_kernel_likelihood,lguess,disp=False,xtol=0.01,full_output=1)\n",
    "    return (siguess,output[0][0]), output[1]"
   ]
  },
  {
   "cell_type": "code",
   "execution_count": null,
   "metadata": {},
   "outputs": [],
   "source": [
    "def kernel_predict(params,times_band,flux_band,err_band):\n",
    "    sigma=params[0]\n",
    "    length=params[1]\n",
    "    kernel=np.exp(-(np.reshape(time_grid,(-1,1)) - times_band)**2/2/length**2)\n",
    "    sumw=kernel.dot(1./err_band**2) + 1./sigma**2\n",
    "    pred=kernel.dot(flux_band/err_band**2) / sumw\n",
    "    return pred, np.sqrt(1./sumw)"
   ]
  },
  {
   "cell_type": "code",
   "execution_count": null,
   "metadata": {},
   "outputs": [],
   "source": [
    "def make_kernel(tlist,flist,elist,fit_kernel_function=fit_kernel_length_only):\n",
    "    flux_grid = []\n",
    "    err_grid = []\n",
    "    kernel_sigma = []\n",
    "    kernel_length = []\n",
    "    kernel_logl=[]\n",
    "    for iobj,(times_obj,flux_obj,err_obj) in enumerate(zip(tlist,flist,elist)):\n",
    "        flux_grid_obj=[]\n",
    "        err_grid_obj=[]\n",
    "        kernel_sigma_obj = []\n",
    "        kernel_length_obj = []\n",
    "        kernel_logl_obj=[]\n",
    "        if iobj in meta_data[meta_data['hostgal_photoz']!=0.0].index:\n",
    "            for times_band,flux_band,err_band in zip(times_obj,flux_obj,err_obj):\n",
    "                (sigma,length),logl = fit_kernel_function(times_band,flux_band,err_band)\n",
    "                k_flux,k_err=kernel_predict((sigma,length),times_band,flux_band,err_band)\n",
    "                flux_grid_obj.append(k_flux)\n",
    "                err_grid_obj.append(k_err)\n",
    "                kernel_sigma_obj.append(sigma)\n",
    "                kernel_length_obj.append(length)\n",
    "                kernel_logl_obj.append(logl)\n",
    "        else:\n",
    "            kernel_sigma_obj=[0]*6\n",
    "            kernel_length_obj=[0]*6\n",
    "            kernel_logl_obj=[0]*6\n",
    "        flux_grid.append(flux_grid_obj)\n",
    "        err_grid.append(err_grid_obj)\n",
    "        kernel_sigma.append(kernel_sigma_obj)\n",
    "        kernel_length.append(kernel_length_obj)\n",
    "        kernel_logl.append(kernel_logl_obj)\n",
    "    return flux_grid,err_grid, kernel_sigma, kernel_length,kernel_logl"
   ]
  },
  {
   "cell_type": "code",
   "execution_count": null,
   "metadata": {},
   "outputs": [],
   "source": [
    "iobj=1\n",
    "band=3\n",
    "time_grid=(np.arange(59550,60705,5.))\n",
    "(sigma,length),logl = fit_kernel_length_only(times_list[iobj][band],flux_list[iobj][band],err_list[iobj][band])\n",
    "#length=4.0\n",
    "k_flux,k_err=kernel_predict((sigma,length),times_list[iobj][band],flux_list[iobj][band],err_list[iobj][band])\n",
    "plt.errorbar(times_list[iobj][band],flux_list[iobj][band],yerr=err_list[iobj][band],color=colors[band],fmt='o')\n",
    "plt.plot(time_grid,k_flux)\n",
    "plt.fill_between(time_grid,k_flux-k_err,k_flux+k_err,alpha=0.3)\n",
    "plt.ylim(np.min(flux_list[iobj][band]*1.5,0),np.max(flux_list[iobj][band]*1.5,0))\n",
    "#plt.xlim(60100,60300)\n",
    "print (sigma,length,logl)"
   ]
  },
  {
   "cell_type": "code",
   "execution_count": null,
   "metadata": {},
   "outputs": [],
   "source": [
    "klonly_flux_grid,klonly_err_grid,klonly_sigma,klonly_length,klonly_logl = make_kernel(\n",
    "    times_list,flux_list,err_list,fit_kernel_function=fit_kernel_length_only)"
   ]
  },
  {
   "cell_type": "code",
   "execution_count": null,
   "metadata": {},
   "outputs": [],
   "source": [
    "def plot_interpolations(iobj,times_list,flux_list,err_list,flux_grid,err_grid):\n",
    "    fig, axes = plt.subplots(2, 3, sharex=True, sharey=True, figsize=(12, 8))\n",
    "    plt.title(target_types[meta_data.loc[iobj,'target']]) \n",
    "    for band in range(6):\n",
    "        ax = axes[band // 3, band % 3]\n",
    "        ax.errorbar(times_list[iobj][band],flux_list[iobj][band],yerr=err_list[iobj][band],color=colors[band],fmt='o')\n",
    "        ax.plot(time_grid,flux_grid[iobj][band],color=colors[band])\n",
    "        ax.fill_between(time_grid,flux_grid[iobj][band]-err_grid[iobj][band],\n",
    "                        flux_grid[iobj][band]+err_grid[iobj][band],alpha=0.3,color=colors[band])\n",
    "        ax.set_xlabel('MJD')\n",
    "        ax.set_ylabel('Flux')\n",
    "    plt.title(target_types[meta_data.loc[iobj,'target']])\n",
    "plot_interpolations(300,times_list,flux_list,err_list,klonly_flux_grid,klonly_err_grid)\n",
    "#plt.ylim(-50,200)\n",
    "plt.xlim(60000,60250)"
   ]
  },
  {
   "cell_type": "code",
   "execution_count": null,
   "metadata": {},
   "outputs": [],
   "source": [
    "for iobj in meta_data[(meta_data['ddf']==0)]['object_id'][:25]:\n",
    "   plt.figure()\n",
    "   plot_one_object(iobj)"
   ]
  },
  {
   "cell_type": "code",
   "execution_count": null,
   "metadata": {},
   "outputs": [],
   "source": [
    "x1=meta_data[\"hostgal_specz\"].tolist()\n",
    "x2=meta_data[\"hostgal_photoz\"].tolist()\n",
    "plt.scatter(x1, meta_data[\"distmod\"],color = 'red');\n",
    "plt.scatter(x2, meta_data[\"distmod\"],color = 'blue');"
   ]
  },
  {
   "cell_type": "code",
   "execution_count": null,
   "metadata": {},
   "outputs": [],
   "source": [
    "true_photoz= meta_data[~meta_data.hostgal_specz.isna()==~meta_data.hostgal_photoz.isna()]\n",
    "true_photoz.plot.scatter(x=\"hostgal_specz\", y=\"hostgal_photoz\",color = 'green');"
   ]
  },
  {
   "cell_type": "code",
   "execution_count": null,
   "metadata": {},
   "outputs": [],
   "source": [
    "meta_data.plot.scatter(x=\"gal_l\", y=\"ra\")"
   ]
  },
  {
   "cell_type": "code",
   "execution_count": null,
   "metadata": {},
   "outputs": [],
   "source": [
    "meta_data.plot.scatter(x=\"decl\", y=\"gal_b\")"
   ]
  },
  {
   "cell_type": "code",
   "execution_count": null,
   "metadata": {},
   "outputs": [],
   "source": [
    "\n",
    "plt.figure(figsize=(15,5))\n",
    "sns.heatmap(meta_data.corr(), annot=True, fmt=\".1f\", cmap=\"RdYlBu\");"
   ]
  },
  {
   "cell_type": "code",
   "execution_count": null,
   "metadata": {},
   "outputs": [],
   "source": [
    "# lest attribut correles dans les metadata sont:\n",
    "#distmod et hostgal_fotoz.\n",
    "#target et target_id\n",
    "#decl avec gal_l\n",
    "#ddf avec object_id"
   ]
  },
  {
   "cell_type": "code",
   "execution_count": null,
   "metadata": {},
   "outputs": [],
   "source": [
    "\n",
    "plt.figure(figsize=(15,5))\n",
    "sns.heatmap(training_set.corr(), annot=True, fmt=\".1f\", cmap=\"RdYlBu\");"
   ]
  },
  {
   "cell_type": "code",
   "execution_count": null,
   "metadata": {},
   "outputs": [],
   "source": []
  }
 ],
 "metadata": {
  "kernelspec": {
   "display_name": "Python 3",
   "language": "python",
   "name": "python3"
  },
  "language_info": {
   "codemirror_mode": {
    "name": "ipython",
    "version": 3
   },
   "file_extension": ".py",
   "mimetype": "text/x-python",
   "name": "python",
   "nbconvert_exporter": "python",
   "pygments_lexer": "ipython3",
   "version": "3.7.1"
  }
 },
 "nbformat": 4,
 "nbformat_minor": 2
}
