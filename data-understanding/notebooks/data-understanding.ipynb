{
 "cells": [
  {
   "cell_type": "markdown",
   "metadata": {},
   "source": [
    "# PLASTICC - Compréhension des données"
   ]
  },
  {
   "cell_type": "markdown",
   "metadata": {},
   "source": [
    "Nous nous appuierons notamment sur le [\"kit de démarrage\"](https://github.com/LSSTDESC/plasticc-kit) fourni par le LSST Dark Energy Science Collaboration (DESC) dont le but est d'introduire le vocabulaire technique utilisé dans le cadre de la compétition ainsi que le domaine métier. Une approche basique est également proposée pour aborder le challenge."
   ]
  },
  {
   "cell_type": "markdown",
   "metadata": {},
   "source": [
    "## Questions sur la collecte de données"
   ]
  },
  {
   "cell_type": "markdown",
   "metadata": {},
   "source": [
    "#### Quels sont les attributs (colonnes) de la base de données qui semblent les plus prometteurs ?"
   ]
  },
  {
   "cell_type": "markdown",
   "metadata": {},
   "source": [
    "L'objectif étant la classification d'objets astronomiques à partir de leurs courbes de lumière, on peut trivialement avancer que les meesures de flux dans les 6 filtres seront important. Le temps associé à chacune des mesures le sera également. "
   ]
  },
  {
   "cell_type": "markdown",
   "metadata": {},
   "source": [
    "Nous disposons également de méta données sur les objets concernant entre autres leurs coordonnées ainsi que des informations nous renseignant sur la qualité de nos mesures (comme le redshift). Pour le moment, rien ne justifie l'élimination d'attributs, nous titerons nos conclusions emiriquement en appliquant des algorithmes de sélection de features.  "
   ]
  },
  {
   "cell_type": "markdown",
   "metadata": {},
   "source": [
    "#### Quels sont les attributs qui semblent sans intérêt et peuvent être exclus ?"
   ]
  },
  {
   "cell_type": "markdown",
   "metadata": {},
   "source": [
    "voir question précédente."
   ]
  },
  {
   "cell_type": "markdown",
   "metadata": {},
   "source": [
    "#### Le nombre de données permet-il de tirer des conclusions pouvant être généralisées ou d’effectuer des prévisions précises ?"
   ]
  },
  {
   "cell_type": "markdown",
   "metadata": {},
   "source": [
    "Sachant que les données sur lesquels nous travaillons sont des données simulées, même une modèle \"parfait\" devra toujours être confronté aux données réellement issues de mesures. "
   ]
  },
  {
   "cell_type": "markdown",
   "metadata": {},
   "source": [
    "#### Les attributs sont-ils trop nombreux pour la méthode de modélisation choisie ?"
   ]
  },
  {
   "cell_type": "markdown",
   "metadata": {},
   "source": [
    "Le nombre d'attributs parait relativement petit devant le nombre d'observations, nous disosons en effet d'une dizaine d'attributs pour 1.5 millions d'observations. Cette hypothèse devra néanmoins être vérifié lors de l'étape de modélisation. Par ailleurs, le nombre d'attributs sera augmenté considérablement lors de l'étape de transformation des données. En effet, nous chercherons à ajouter des statistiques sur les séries temporelles afin de \"résumer\" certaines caractéristiques des courbes comme l'amplitude maximale par exemple. Une étape complémentaire de sélection des données nous indiquera si cette procédure est pertinente pour la modélisation ou non. Mais le guide de démarrage de Plasticc et les solutions des gagnant du challenge nous permettent d'avancer de manière confiante dans cette direction. "
   ]
  },
  {
   "cell_type": "markdown",
   "metadata": {},
   "source": [
    "#### Opérez-vous la fusion de données issues de plusieurs sources ? Si oui, certains points risquent-ils de poser problème lors de la fusion ?"
   ]
  },
  {
   "cell_type": "markdown",
   "metadata": {},
   "source": [
    "Tous nos données sont fournies par Kaggle. Nous disposons de deux fichier, l'un sur les courbes, l'autre sur les métadonnées, a priori, le seul risque a priori porte sur la présence d'un objet dans un des fichiers mais pas dans l'autre."
   ]
  },
  {
   "cell_type": "markdown",
   "metadata": {},
   "source": [
    "#### Avez-vous envisagé le mode de traitement des valeurs manquantes dans chacune de vos sources de données ?"
   ]
  },
  {
   "cell_type": "markdown",
   "metadata": {},
   "source": [
    "Ce point est crucial dans notre cas. En effet, les mesures simulées sont des données temporelles pour lesquelles la présence de mesures est très sporadique, il manque des données sur des périodes variables et assez longues. La subtilité provient également du fait que le manque d'observations peut être due au protocole du LSST et/ou des caractéristiques intrinsèques de l'objet observé. Dans tous les cas, nous tenterons de prédire les données manquantes, probablement à l'aide de processus gaussiens. Cette méthodologie nous a été conseillée par des experts du domaine et a par ailleurs été employée par le gagnant du challenge pour procéder à la génération de features et à la prédiction de la classe des objets."
   ]
  },
  {
   "cell_type": "markdown",
   "metadata": {},
   "source": [
    "## Questions sur la description des données"
   ]
  },
  {
   "cell_type": "markdown",
   "metadata": {},
   "source": [
    "### Questions quantitatives"
   ]
  },
  {
   "cell_type": "markdown",
   "metadata": {},
   "source": [
    "#### Quel est le format des données ?"
   ]
  },
  {
   "cell_type": "markdown",
   "metadata": {},
   "source": [
    "Les données nous sont fournies sour forme de fichiers CSV. Deux fichiers pour le dataset d'entrainement, deux fiichiers pour le dataseet de test."
   ]
  },
  {
   "cell_type": "markdown",
   "metadata": {},
   "source": [
    "#### Identifiez la méthode utilisée pour capturer/générer les données ?"
   ]
  },
  {
   "cell_type": "markdown",
   "metadata": {},
   "source": [
    "Comme énoncé précédemment, les données sont issues de simulations sensées représenter les observations réelles du LSST."
   ]
  },
  {
   "cell_type": "markdown",
   "metadata": {},
   "source": [
    "#### Quelle est la taille de la base de données (en nombre de lignes et de colonnes)"
   ]
  },
  {
   "cell_type": "code",
   "execution_count": null,
   "metadata": {},
   "outputs": [],
   "source": [
    "- Pour les données d'entrainement: 1421706 lignes, 6 colonnes (+ 7849 lignes et 12 colonnes de métadonnées)\n",
    "- Pour les données de test:  (+ 3492891 lignes et 11 colonnes de métadonnées)"
   ]
  }
 ],
 "metadata": {
  "kernelspec": {
   "display_name": "Python 3",
   "language": "python",
   "name": "python3"
  },
  "language_info": {
   "codemirror_mode": {
    "name": "ipython",
    "version": 3
   },
   "file_extension": ".py",
   "mimetype": "text/x-python",
   "name": "python",
   "nbconvert_exporter": "python",
   "pygments_lexer": "ipython3",
   "version": "3.6.1"
  }
 },
 "nbformat": 4,
 "nbformat_minor": 2
}
