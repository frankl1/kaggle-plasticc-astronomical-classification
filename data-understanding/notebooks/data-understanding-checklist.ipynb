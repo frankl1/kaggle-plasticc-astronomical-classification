{
 "cells": [
  {
   "cell_type": "markdown",
   "metadata": {},
   "source": [
    "# PLASTICC Challenge - Data Understanding "
   ]
  },
  {
   "cell_type": "markdown",
   "metadata": {},
   "source": [
    "Objectif du notebook: s'assurer que l'étape de comréhension des données est complète et permet de passer à l'étape suivante de transforamtion des données."
   ]
  },
  {
   "cell_type": "markdown",
   "metadata": {},
   "source": [
    "Pour cela, nous allons passer en revue les éléments de notre checklist en nous focalisant sur les points qui nous on semblé important lors de nos précédentes réunions, analyses de données et discussions."
   ]
  },
  {
   "cell_type": "markdown",
   "metadata": {},
   "source": [
    "## Checklist avant passage à l'étape suivante"
   ]
  },
  {
   "cell_type": "markdown",
   "metadata": {},
   "source": [
    "### Toutes les sources de données sont-elles clairement identifiées et consultées ?"
   ]
  },
  {
   "cell_type": "code",
   "execution_count": 9,
   "metadata": {},
   "outputs": [
    {
     "name": "stdout",
     "output_type": "stream",
     "text": [
      "training_set.csv\r\n",
      "training_set_metadata.csv\r\n"
     ]
    }
   ],
   "source": [
    "!ls ../../data | grep -E \".*.csv$\""
   ]
  },
  {
   "cell_type": "code",
   "execution_count": 11,
   "metadata": {},
   "outputs": [
    {
     "name": "stdout",
     "output_type": "stream",
     "text": [
      "data_note.pdf.zip         test_set_metadata.csv.zip training_set.csv.zip\r\n",
      "sample_submission.csv.zip test_set_sample.csv.zip   training_set_metadata.csv\r\n",
      "test_set.csv.zip          training_set.csv\r\n"
     ]
    }
   ],
   "source": [
    "! unzip ../../"
   ]
  },
  {
   "cell_type": "markdown",
   "metadata": {},
   "source": [
    "### Avez-vous connaissance de problèmes ou de restrictions ?"
   ]
  },
  {
   "cell_type": "markdown",
   "metadata": {},
   "source": [
    "voir https://www.kaggle.com/c/PLAsTiCC-2018/rules"
   ]
  },
  {
   "cell_type": "markdown",
   "metadata": {},
   "source": [
    "### Avez-vous identifié des attributs-clés parmi les données disponibles ?"
   ]
  },
  {
   "cell_type": "markdown",
   "metadata": {},
   "source": [
    "Tous a priori tant que pas fait l'étape de sélection des attributs."
   ]
  },
  {
   "cell_type": "markdown",
   "metadata": {},
   "source": [
    "### Ces attributs vous ont-ils aidé à formuler des hypothèses ?"
   ]
  },
  {
   "cell_type": "markdown",
   "metadata": {},
   "source": [
    "- Ajustement du module de la distance pour prendre en compte les effets du redshift sur les valeurs de flux observées permettrait d'améliorer nos prédictions.\n",
    "- Entrainer deux modèles, un pour les objets galactiques et un pour les objets extra galactiques\n",
    "- De même pour les objets en DDF et les objets en WFD\n",
    "- Il sera nécessaire d'imputer les données manquantes sur les observations de flux pour générer nos features et pour réaliser nos prédictions"
   ]
  },
  {
   "cell_type": "markdown",
   "metadata": {},
   "source": [
    "### Avez-vous noté la taille de toutes les sources de données ?"
   ]
  },
  {
   "cell_type": "markdown",
   "metadata": {},
   "source": [
    "voir https://www.kaggle.com/c/PLAsTiCC-2018/data"
   ]
  },
  {
   "cell_type": "markdown",
   "metadata": {},
   "source": [
    "### Etes-vous en mesure d’utiliser un sous-ensemble de données si nécessaire ?"
   ]
  },
  {
   "cell_type": "markdown",
   "metadata": {},
   "source": [
    "Oui, les données sont sous forme de fichiers plats, facile à manipuler avec nimporte quel (bon) éditeur de texte"
   ]
  },
  {
   "cell_type": "markdown",
   "metadata": {},
   "source": [
    "### Avez-vous calculé des statistiques de base pour chaque attribut intéressant ?"
   ]
  },
  {
   "cell_type": "markdown",
   "metadata": {},
   "source": [
    "voir https://github.com/yafeunteun/kaggle-plasticc-astronomical-classification/blob/master/data-understanding/eda-flankl1.ipynb"
   ]
  },
  {
   "cell_type": "markdown",
   "metadata": {},
   "source": [
    "### En avez-vous tiré des informations intéressantes ?"
   ]
  },
  {
   "cell_type": "markdown",
   "metadata": {},
   "source": [
    "EDA déjà partiellement réalisée par les organisateurs, rien de plus a signaler "
   ]
  },
  {
   "cell_type": "markdown",
   "metadata": {},
   "source": [
    "### Avez-vous utilisé des graphiques exploratoires pour clarifier les attributs-clés ?"
   ]
  },
  {
   "cell_type": "markdown",
   "metadata": {},
   "source": [
    "voir https://github.com/yafeunteun/kaggle-plasticc-astronomical-classification/blob/master/data-understanding/eda-flankl1.ipynb"
   ]
  },
  {
   "cell_type": "markdown",
   "metadata": {},
   "source": [
    "### Cet approfondissement a-t-il entraîné une reformulation de certaines de vos hypothèses ?"
   ]
  },
  {
   "cell_type": "markdown",
   "metadata": {},
   "source": [
    "Pour le moment non, la phase de transformation des données et de modélisation nous permettrons de valider ou d'invalider nos hypothèses"
   ]
  },
  {
   "cell_type": "markdown",
   "metadata": {},
   "source": [
    "### Quels sont les problèmes de qualité des données de ce projet ?"
   ]
  },
  {
   "cell_type": "markdown",
   "metadata": {},
   "source": [
    "Principalement lié aux données manquantes sur les mesures de flux. Implique d'identifier et d'appliquer une méthode d'imputation pour ces données manquantes afin de réaliser une bonne modélisation (par hypothèse)"
   ]
  },
  {
   "cell_type": "markdown",
   "metadata": {},
   "source": [
    "### Avez-vous un plan pour résoudre ces problèmes ?"
   ]
  },
  {
   "cell_type": "markdown",
   "metadata": {},
   "source": [
    "Processus Gaussiens, pourrons être employés pour l'imputation des données manquantes (avec en plus en intervalle de confiance) et pour la classification."
   ]
  },
  {
   "cell_type": "markdown",
   "metadata": {},
   "source": [
    "### Les étapes de la préparation des données vous apparaissent-elles clairement ?"
   ]
  },
  {
   "cell_type": "markdown",
   "metadata": {},
   "source": [
    "Oui, processus gaussiens, générations de features (bibliothèque cesium en Python par exemple) puis sélection de features."
   ]
  },
  {
   "cell_type": "markdown",
   "metadata": {},
   "source": [
    "### Par exemple, savez-vous quels sont les attributs à filtrer ou à sélectionner, et les sources de données à fusionner ?"
   ]
  },
  {
   "cell_type": "markdown",
   "metadata": {},
   "source": [
    "Par hypothèse, attribut de flux à corriger à l'aide du distmod par exemple."
   ]
  },
  {
   "cell_type": "code",
   "execution_count": null,
   "metadata": {},
   "outputs": [],
   "source": []
  }
 ],
 "metadata": {
  "kernelspec": {
   "display_name": "Python 3",
   "language": "python",
   "name": "python3"
  },
  "language_info": {
   "codemirror_mode": {
    "name": "ipython",
    "version": 3
   },
   "file_extension": ".py",
   "mimetype": "text/x-python",
   "name": "python",
   "nbconvert_exporter": "python",
   "pygments_lexer": "ipython3",
   "version": "3.6.1"
  }
 },
 "nbformat": 4,
 "nbformat_minor": 2
}
