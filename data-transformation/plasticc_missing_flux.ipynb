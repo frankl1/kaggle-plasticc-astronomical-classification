{
  "cells": [
    {
      "metadata": {
        "trusted": true,
        "_uuid": "b79daf51b360828bbce68431128dd14b0632fb5e"
      },
      "cell_type": "code",
      "source": "import numpy as np\nimport matplotlib.pyplot as plt\nimport pandas as pd",
      "execution_count": 5,
      "outputs": [
        {
          "output_type": "stream",
          "text": "Requirement already satisfied: tslearn in /opt/conda/lib/python3.6/site-packages (0.1.28.2)\r\nRequirement already satisfied: cython in /opt/conda/lib/python3.6/site-packages (from tslearn) (0.29.6)\r\nRequirement already satisfied: numpy in /opt/conda/lib/python3.6/site-packages (from tslearn) (1.16.2)\r\nRequirement already satisfied: scikit-learn in /opt/conda/lib/python3.6/site-packages (from tslearn) (0.20.3)\r\nRequirement already satisfied: scipy in /opt/conda/lib/python3.6/site-packages (from tslearn) (1.1.0)\r\n",
          "name": "stdout"
        }
      ]
    },
    {
      "metadata": {
        "trusted": true,
        "_uuid": "397e8c10f400925c16e791d356ec1a397f8e73dd"
      },
      "cell_type": "code",
      "source": "!ls \"../input\"",
      "execution_count": 6,
      "outputs": [
        {
          "output_type": "stream",
          "text": "PLAsTiCC-2018  completed-lc  features-set\r\n",
          "name": "stdout"
        }
      ]
    },
    {
      "metadata": {
        "trusted": true,
        "_uuid": "8faab087580aab5bda3791f678853e89d6846f74"
      },
      "cell_type": "code",
      "source": "nb_of_passband = 6\ndataset_folder = \"../input/PLAsTiCC-2018\"\n!ls {dataset_folder}",
      "execution_count": 7,
      "outputs": [
        {
          "output_type": "stream",
          "text": "data_note.pdf\t       test_set_metadata.csv  training_set_metadata.csv\r\nsample_submission.csv  test_set_sample.csv\r\ntest_set.csv\t       training_set.csv\r\n",
          "name": "stdout"
        }
      ]
    },
    {
      "metadata": {
        "trusted": true,
        "_uuid": "c79c84b85d6432a9e08489825865168761e7b850"
      },
      "cell_type": "code",
      "source": "train = pd.read_csv(f\"{dataset_folder}/training_set.csv\")\ntrain.head(5)",
      "execution_count": 8,
      "outputs": [
        {
          "output_type": "execute_result",
          "execution_count": 8,
          "data": {
            "text/plain": "   object_id         mjd  passband        flux   flux_err  detected\n0        615  59750.4229         2 -544.810303   3.622952         1\n1        615  59750.4306         1 -816.434326   5.553370         1\n2        615  59750.4383         3 -471.385529   3.801213         1\n3        615  59750.4450         4 -388.984985  11.395031         1\n4        615  59752.4070         2 -681.858887   4.041204         1",
            "text/html": "<div>\n<style scoped>\n    .dataframe tbody tr th:only-of-type {\n        vertical-align: middle;\n    }\n\n    .dataframe tbody tr th {\n        vertical-align: top;\n    }\n\n    .dataframe thead th {\n        text-align: right;\n    }\n</style>\n<table border=\"1\" class=\"dataframe\">\n  <thead>\n    <tr style=\"text-align: right;\">\n      <th></th>\n      <th>object_id</th>\n      <th>mjd</th>\n      <th>passband</th>\n      <th>flux</th>\n      <th>flux_err</th>\n      <th>detected</th>\n    </tr>\n  </thead>\n  <tbody>\n    <tr>\n      <th>0</th>\n      <td>615</td>\n      <td>59750.4229</td>\n      <td>2</td>\n      <td>-544.810303</td>\n      <td>3.622952</td>\n      <td>1</td>\n    </tr>\n    <tr>\n      <th>1</th>\n      <td>615</td>\n      <td>59750.4306</td>\n      <td>1</td>\n      <td>-816.434326</td>\n      <td>5.553370</td>\n      <td>1</td>\n    </tr>\n    <tr>\n      <th>2</th>\n      <td>615</td>\n      <td>59750.4383</td>\n      <td>3</td>\n      <td>-471.385529</td>\n      <td>3.801213</td>\n      <td>1</td>\n    </tr>\n    <tr>\n      <th>3</th>\n      <td>615</td>\n      <td>59750.4450</td>\n      <td>4</td>\n      <td>-388.984985</td>\n      <td>11.395031</td>\n      <td>1</td>\n    </tr>\n    <tr>\n      <th>4</th>\n      <td>615</td>\n      <td>59752.4070</td>\n      <td>2</td>\n      <td>-681.858887</td>\n      <td>4.041204</td>\n      <td>1</td>\n    </tr>\n  </tbody>\n</table>\n</div>"
          },
          "metadata": {}
        }
      ]
    },
    {
      "metadata": {
        "trusted": true,
        "_uuid": "e34fa1159189614e75088814713d5f66eb898e45"
      },
      "cell_type": "code",
      "source": "train[\"unix\"] = (train.mjd - 40587)*86400\ntrain.head()",
      "execution_count": 9,
      "outputs": [
        {
          "output_type": "execute_result",
          "execution_count": 9,
          "data": {
            "text/plain": "   object_id         mjd      ...       detected          unix\n0        615  59750.4229      ...              1  1.655720e+09\n1        615  59750.4306      ...              1  1.655720e+09\n2        615  59750.4383      ...              1  1.655721e+09\n3        615  59750.4450      ...              1  1.655722e+09\n4        615  59752.4070      ...              1  1.655891e+09\n\n[5 rows x 7 columns]",
            "text/html": "<div>\n<style scoped>\n    .dataframe tbody tr th:only-of-type {\n        vertical-align: middle;\n    }\n\n    .dataframe tbody tr th {\n        vertical-align: top;\n    }\n\n    .dataframe thead th {\n        text-align: right;\n    }\n</style>\n<table border=\"1\" class=\"dataframe\">\n  <thead>\n    <tr style=\"text-align: right;\">\n      <th></th>\n      <th>object_id</th>\n      <th>mjd</th>\n      <th>passband</th>\n      <th>flux</th>\n      <th>flux_err</th>\n      <th>detected</th>\n      <th>unix</th>\n    </tr>\n  </thead>\n  <tbody>\n    <tr>\n      <th>0</th>\n      <td>615</td>\n      <td>59750.4229</td>\n      <td>2</td>\n      <td>-544.810303</td>\n      <td>3.622952</td>\n      <td>1</td>\n      <td>1.655720e+09</td>\n    </tr>\n    <tr>\n      <th>1</th>\n      <td>615</td>\n      <td>59750.4306</td>\n      <td>1</td>\n      <td>-816.434326</td>\n      <td>5.553370</td>\n      <td>1</td>\n      <td>1.655720e+09</td>\n    </tr>\n    <tr>\n      <th>2</th>\n      <td>615</td>\n      <td>59750.4383</td>\n      <td>3</td>\n      <td>-471.385529</td>\n      <td>3.801213</td>\n      <td>1</td>\n      <td>1.655721e+09</td>\n    </tr>\n    <tr>\n      <th>3</th>\n      <td>615</td>\n      <td>59750.4450</td>\n      <td>4</td>\n      <td>-388.984985</td>\n      <td>11.395031</td>\n      <td>1</td>\n      <td>1.655722e+09</td>\n    </tr>\n    <tr>\n      <th>4</th>\n      <td>615</td>\n      <td>59752.4070</td>\n      <td>2</td>\n      <td>-681.858887</td>\n      <td>4.041204</td>\n      <td>1</td>\n      <td>1.655891e+09</td>\n    </tr>\n  </tbody>\n</table>\n</div>"
          },
          "metadata": {}
        }
      ]
    },
    {
      "metadata": {
        "trusted": true,
        "_uuid": "18a9a7e8cbef69dcf3a1a90f1ec7a53b4b353bc4"
      },
      "cell_type": "code",
      "source": "metadata = pd.read_csv(f\"{dataset_folder}/training_set_metadata.csv\")\nmetadata.head(5)",
      "execution_count": 10,
      "outputs": [
        {
          "output_type": "execute_result",
          "execution_count": 10,
          "data": {
            "text/plain": "   object_id          ra       decl   ...    distmod  mwebv  target\n0        615  349.046051 -61.943836   ...        NaN  0.017      92\n1        713   53.085938 -27.784405   ...    45.4063  0.007      88\n2        730   33.574219  -6.579593   ...    40.2561  0.021      42\n3        745    0.189873 -45.586655   ...    40.7951  0.007      90\n4       1124  352.711273 -63.823658   ...    40.4166  0.024      90\n\n[5 rows x 12 columns]",
            "text/html": "<div>\n<style scoped>\n    .dataframe tbody tr th:only-of-type {\n        vertical-align: middle;\n    }\n\n    .dataframe tbody tr th {\n        vertical-align: top;\n    }\n\n    .dataframe thead th {\n        text-align: right;\n    }\n</style>\n<table border=\"1\" class=\"dataframe\">\n  <thead>\n    <tr style=\"text-align: right;\">\n      <th></th>\n      <th>object_id</th>\n      <th>ra</th>\n      <th>decl</th>\n      <th>gal_l</th>\n      <th>gal_b</th>\n      <th>ddf</th>\n      <th>hostgal_specz</th>\n      <th>hostgal_photoz</th>\n      <th>hostgal_photoz_err</th>\n      <th>distmod</th>\n      <th>mwebv</th>\n      <th>target</th>\n    </tr>\n  </thead>\n  <tbody>\n    <tr>\n      <th>0</th>\n      <td>615</td>\n      <td>349.046051</td>\n      <td>-61.943836</td>\n      <td>320.796530</td>\n      <td>-51.753706</td>\n      <td>1</td>\n      <td>0.0000</td>\n      <td>0.0000</td>\n      <td>0.0000</td>\n      <td>NaN</td>\n      <td>0.017</td>\n      <td>92</td>\n    </tr>\n    <tr>\n      <th>1</th>\n      <td>713</td>\n      <td>53.085938</td>\n      <td>-27.784405</td>\n      <td>223.525509</td>\n      <td>-54.460748</td>\n      <td>1</td>\n      <td>1.8181</td>\n      <td>1.6267</td>\n      <td>0.2552</td>\n      <td>45.4063</td>\n      <td>0.007</td>\n      <td>88</td>\n    </tr>\n    <tr>\n      <th>2</th>\n      <td>730</td>\n      <td>33.574219</td>\n      <td>-6.579593</td>\n      <td>170.455585</td>\n      <td>-61.548219</td>\n      <td>1</td>\n      <td>0.2320</td>\n      <td>0.2262</td>\n      <td>0.0157</td>\n      <td>40.2561</td>\n      <td>0.021</td>\n      <td>42</td>\n    </tr>\n    <tr>\n      <th>3</th>\n      <td>745</td>\n      <td>0.189873</td>\n      <td>-45.586655</td>\n      <td>328.254458</td>\n      <td>-68.969298</td>\n      <td>1</td>\n      <td>0.3037</td>\n      <td>0.2813</td>\n      <td>1.1523</td>\n      <td>40.7951</td>\n      <td>0.007</td>\n      <td>90</td>\n    </tr>\n    <tr>\n      <th>4</th>\n      <td>1124</td>\n      <td>352.711273</td>\n      <td>-63.823658</td>\n      <td>316.922299</td>\n      <td>-51.059403</td>\n      <td>1</td>\n      <td>0.1934</td>\n      <td>0.2415</td>\n      <td>0.0176</td>\n      <td>40.4166</td>\n      <td>0.024</td>\n      <td>90</td>\n    </tr>\n  </tbody>\n</table>\n</div>"
          },
          "metadata": {}
        }
      ]
    },
    {
      "metadata": {
        "trusted": true,
        "_uuid": "403dfa0d93d572c0517dc99f267b949aa1944756"
      },
      "cell_type": "code",
      "source": "train.mjd = train.mjd.astype(np.int32)\ntrain.mjd = train.mjd - train.mjd.min()\ntrain.head(10)",
      "execution_count": 11,
      "outputs": [
        {
          "output_type": "execute_result",
          "execution_count": 11,
          "data": {
            "text/plain": "   object_id  mjd  passband      ...        flux_err  detected          unix\n0        615  170         2      ...        3.622952         1  1.655720e+09\n1        615  170         1      ...        5.553370         1  1.655720e+09\n2        615  170         3      ...        3.801213         1  1.655721e+09\n3        615  170         4      ...       11.395031         1  1.655722e+09\n4        615  172         2      ...        4.041204         1  1.655891e+09\n5        615  172         1      ...        6.472994         1  1.655892e+09\n6        615  172         3      ...        3.552751         1  1.655892e+09\n7        615  172         4      ...        3.599346         1  1.655893e+09\n8        615  172         5      ...       10.421921         1  1.655894e+09\n9        615  187         2      ...        3.462291         1  1.657178e+09\n\n[10 rows x 7 columns]",
            "text/html": "<div>\n<style scoped>\n    .dataframe tbody tr th:only-of-type {\n        vertical-align: middle;\n    }\n\n    .dataframe tbody tr th {\n        vertical-align: top;\n    }\n\n    .dataframe thead th {\n        text-align: right;\n    }\n</style>\n<table border=\"1\" class=\"dataframe\">\n  <thead>\n    <tr style=\"text-align: right;\">\n      <th></th>\n      <th>object_id</th>\n      <th>mjd</th>\n      <th>passband</th>\n      <th>flux</th>\n      <th>flux_err</th>\n      <th>detected</th>\n      <th>unix</th>\n    </tr>\n  </thead>\n  <tbody>\n    <tr>\n      <th>0</th>\n      <td>615</td>\n      <td>170</td>\n      <td>2</td>\n      <td>-544.810303</td>\n      <td>3.622952</td>\n      <td>1</td>\n      <td>1.655720e+09</td>\n    </tr>\n    <tr>\n      <th>1</th>\n      <td>615</td>\n      <td>170</td>\n      <td>1</td>\n      <td>-816.434326</td>\n      <td>5.553370</td>\n      <td>1</td>\n      <td>1.655720e+09</td>\n    </tr>\n    <tr>\n      <th>2</th>\n      <td>615</td>\n      <td>170</td>\n      <td>3</td>\n      <td>-471.385529</td>\n      <td>3.801213</td>\n      <td>1</td>\n      <td>1.655721e+09</td>\n    </tr>\n    <tr>\n      <th>3</th>\n      <td>615</td>\n      <td>170</td>\n      <td>4</td>\n      <td>-388.984985</td>\n      <td>11.395031</td>\n      <td>1</td>\n      <td>1.655722e+09</td>\n    </tr>\n    <tr>\n      <th>4</th>\n      <td>615</td>\n      <td>172</td>\n      <td>2</td>\n      <td>-681.858887</td>\n      <td>4.041204</td>\n      <td>1</td>\n      <td>1.655891e+09</td>\n    </tr>\n    <tr>\n      <th>5</th>\n      <td>615</td>\n      <td>172</td>\n      <td>1</td>\n      <td>-1061.457031</td>\n      <td>6.472994</td>\n      <td>1</td>\n      <td>1.655892e+09</td>\n    </tr>\n    <tr>\n      <th>6</th>\n      <td>615</td>\n      <td>172</td>\n      <td>3</td>\n      <td>-524.954590</td>\n      <td>3.552751</td>\n      <td>1</td>\n      <td>1.655892e+09</td>\n    </tr>\n    <tr>\n      <th>7</th>\n      <td>615</td>\n      <td>172</td>\n      <td>4</td>\n      <td>-393.480225</td>\n      <td>3.599346</td>\n      <td>1</td>\n      <td>1.655893e+09</td>\n    </tr>\n    <tr>\n      <th>8</th>\n      <td>615</td>\n      <td>172</td>\n      <td>5</td>\n      <td>-355.886780</td>\n      <td>10.421921</td>\n      <td>1</td>\n      <td>1.655894e+09</td>\n    </tr>\n    <tr>\n      <th>9</th>\n      <td>615</td>\n      <td>187</td>\n      <td>2</td>\n      <td>-548.013550</td>\n      <td>3.462291</td>\n      <td>1</td>\n      <td>1.657178e+09</td>\n    </tr>\n  </tbody>\n</table>\n</div>"
          },
          "metadata": {}
        }
      ]
    },
    {
      "metadata": {
        "trusted": true,
        "_uuid": "1763538ba3e217df82b906ff124a7b6972af9027"
      },
      "cell_type": "code",
      "source": "tmp = train.groupby([\"object_id\", \"mjd\", \"passband\"]).count()\ntmp[tmp.flux>1].shape[0] / train.shape[0]",
      "execution_count": 12,
      "outputs": [
        {
          "output_type": "execute_result",
          "execution_count": 12,
          "data": {
            "text/plain": "0.0013286863308492269"
          },
          "metadata": {}
        }
      ]
    },
    {
      "metadata": {
        "trusted": true,
        "_uuid": "087c43a3295e8333b1f03569464afc84273e9eac"
      },
      "cell_type": "code",
      "source": "train = train.groupby([\"object_id\", \"mjd\", \"passband\"]).mean().reset_index()\ntrain",
      "execution_count": 13,
      "outputs": [
        {
          "output_type": "execute_result",
          "execution_count": 13,
          "data": {
            "text/plain": "         object_id   mjd      ...       detected          unix\n0              615   170      ...            1.0  1.655720e+09\n1              615   170      ...            1.0  1.655720e+09\n2              615   170      ...            1.0  1.655721e+09\n3              615   170      ...            1.0  1.655722e+09\n4              615   172      ...            1.0  1.655892e+09\n5              615   172      ...            1.0  1.655891e+09\n6              615   172      ...            1.0  1.655892e+09\n7              615   172      ...            1.0  1.655893e+09\n8              615   172      ...            1.0  1.655894e+09\n9              615   187      ...            1.0  1.657178e+09\n10             615   187      ...            1.0  1.657178e+09\n11             615   187      ...            1.0  1.657179e+09\n12             615   187      ...            1.0  1.657180e+09\n13             615   187      ...            1.0  1.657181e+09\n14             615   190      ...            1.0  1.657431e+09\n15             615   190      ...            1.0  1.657430e+09\n16             615   190      ...            1.0  1.657431e+09\n17             615   190      ...            1.0  1.657432e+09\n18             615   190      ...            1.0  1.657433e+09\n19             615   199      ...            1.0  1.658217e+09\n20             615   199      ...            1.0  1.658216e+09\n21             615   199      ...            1.0  1.658218e+09\n22             615   199      ...            1.0  1.658219e+09\n23             615   199      ...            1.0  1.658220e+09\n24             615   202      ...            1.0  1.658465e+09\n25             615   202      ...            1.0  1.658464e+09\n26             615   202      ...            1.0  1.658466e+09\n27             615   202      ...            1.0  1.658467e+09\n28             615   202      ...            1.0  1.658468e+09\n29             615   217      ...            1.0  1.659769e+09\n...            ...   ...      ...            ...           ...\n1419780  130779836   884      ...            0.0  1.717391e+09\n1419781  130779836   886      ...            0.0  1.717568e+09\n1419782  130779836   910      ...            0.0  1.719633e+09\n1419783  130779836   911      ...            0.0  1.719722e+09\n1419784  130779836   916      ...            0.0  1.720148e+09\n1419785  130779836   917      ...            0.0  1.720237e+09\n1419786  130779836   918      ...            0.0  1.720327e+09\n1419787  130779836   919      ...            0.0  1.720409e+09\n1419788  130779836   923      ...            0.0  1.720752e+09\n1419789  130779836   925      ...            0.0  1.720924e+09\n1419790  130779836   926      ...            0.0  1.721010e+09\n1419791  130779836   930      ...            0.0  1.721365e+09\n1419792  130779836   935      ...            0.0  1.721803e+09\n1419793  130779836   944      ...            0.0  1.722560e+09\n1419794  130779836   945      ...            0.0  1.722649e+09\n1419795  130779836   946      ...            0.0  1.722746e+09\n1419796  130779836   948      ...            0.0  1.722905e+09\n1419797  130779836   950      ...            0.0  1.723084e+09\n1419798  130779836   956      ...            0.0  1.723597e+09\n1419799  130779836   957      ...            0.0  1.723693e+09\n1419800  130779836   962      ...            0.0  1.724116e+09\n1419801  130779836   963      ...            0.0  1.724201e+09\n1419802  130779836   965      ...            0.0  1.724456e+09\n1419803  130779836   966      ...            0.0  1.724542e+09\n1419804  130779836   968      ...            0.0  1.724715e+09\n1419805  130779836   975      ...            0.0  1.725320e+09\n1419806  130779836   980      ...            0.0  1.725671e+09\n1419807  130779836   991      ...            0.0  1.726620e+09\n1419808  130779836  1005      ...            0.0  1.727913e+09\n1419809  130779836  1008      ...            0.0  1.728090e+09\n\n[1419810 rows x 7 columns]",
            "text/html": "<div>\n<style scoped>\n    .dataframe tbody tr th:only-of-type {\n        vertical-align: middle;\n    }\n\n    .dataframe tbody tr th {\n        vertical-align: top;\n    }\n\n    .dataframe thead th {\n        text-align: right;\n    }\n</style>\n<table border=\"1\" class=\"dataframe\">\n  <thead>\n    <tr style=\"text-align: right;\">\n      <th></th>\n      <th>object_id</th>\n      <th>mjd</th>\n      <th>passband</th>\n      <th>flux</th>\n      <th>flux_err</th>\n      <th>detected</th>\n      <th>unix</th>\n    </tr>\n  </thead>\n  <tbody>\n    <tr>\n      <th>0</th>\n      <td>615</td>\n      <td>170</td>\n      <td>1</td>\n      <td>-816.434326</td>\n      <td>5.553370</td>\n      <td>1.0</td>\n      <td>1.655720e+09</td>\n    </tr>\n    <tr>\n      <th>1</th>\n      <td>615</td>\n      <td>170</td>\n      <td>2</td>\n      <td>-544.810303</td>\n      <td>3.622952</td>\n      <td>1.0</td>\n      <td>1.655720e+09</td>\n    </tr>\n    <tr>\n      <th>2</th>\n      <td>615</td>\n      <td>170</td>\n      <td>3</td>\n      <td>-471.385529</td>\n      <td>3.801213</td>\n      <td>1.0</td>\n      <td>1.655721e+09</td>\n    </tr>\n    <tr>\n      <th>3</th>\n      <td>615</td>\n      <td>170</td>\n      <td>4</td>\n      <td>-388.984985</td>\n      <td>11.395031</td>\n      <td>1.0</td>\n      <td>1.655722e+09</td>\n    </tr>\n    <tr>\n      <th>4</th>\n      <td>615</td>\n      <td>172</td>\n      <td>1</td>\n      <td>-1061.457031</td>\n      <td>6.472994</td>\n      <td>1.0</td>\n      <td>1.655892e+09</td>\n    </tr>\n    <tr>\n      <th>5</th>\n      <td>615</td>\n      <td>172</td>\n      <td>2</td>\n      <td>-681.858887</td>\n      <td>4.041204</td>\n      <td>1.0</td>\n      <td>1.655891e+09</td>\n    </tr>\n    <tr>\n      <th>6</th>\n      <td>615</td>\n      <td>172</td>\n      <td>3</td>\n      <td>-524.954590</td>\n      <td>3.552751</td>\n      <td>1.0</td>\n      <td>1.655892e+09</td>\n    </tr>\n    <tr>\n      <th>7</th>\n      <td>615</td>\n      <td>172</td>\n      <td>4</td>\n      <td>-393.480225</td>\n      <td>3.599346</td>\n      <td>1.0</td>\n      <td>1.655893e+09</td>\n    </tr>\n    <tr>\n      <th>8</th>\n      <td>615</td>\n      <td>172</td>\n      <td>5</td>\n      <td>-355.886780</td>\n      <td>10.421921</td>\n      <td>1.0</td>\n      <td>1.655894e+09</td>\n    </tr>\n    <tr>\n      <th>9</th>\n      <td>615</td>\n      <td>187</td>\n      <td>1</td>\n      <td>-815.188599</td>\n      <td>5.293019</td>\n      <td>1.0</td>\n      <td>1.657178e+09</td>\n    </tr>\n    <tr>\n      <th>10</th>\n      <td>615</td>\n      <td>187</td>\n      <td>2</td>\n      <td>-548.013550</td>\n      <td>3.462291</td>\n      <td>1.0</td>\n      <td>1.657178e+09</td>\n    </tr>\n    <tr>\n      <th>11</th>\n      <td>615</td>\n      <td>187</td>\n      <td>3</td>\n      <td>-475.516052</td>\n      <td>3.340643</td>\n      <td>1.0</td>\n      <td>1.657179e+09</td>\n    </tr>\n    <tr>\n      <th>12</th>\n      <td>615</td>\n      <td>187</td>\n      <td>4</td>\n      <td>-405.663818</td>\n      <td>3.496113</td>\n      <td>1.0</td>\n      <td>1.657180e+09</td>\n    </tr>\n    <tr>\n      <th>13</th>\n      <td>615</td>\n      <td>187</td>\n      <td>5</td>\n      <td>-421.199066</td>\n      <td>6.377517</td>\n      <td>1.0</td>\n      <td>1.657181e+09</td>\n    </tr>\n    <tr>\n      <th>14</th>\n      <td>615</td>\n      <td>190</td>\n      <td>1</td>\n      <td>-820.042786</td>\n      <td>5.875329</td>\n      <td>1.0</td>\n      <td>1.657431e+09</td>\n    </tr>\n    <tr>\n      <th>15</th>\n      <td>615</td>\n      <td>190</td>\n      <td>2</td>\n      <td>-554.903198</td>\n      <td>3.927843</td>\n      <td>1.0</td>\n      <td>1.657430e+09</td>\n    </tr>\n    <tr>\n      <th>16</th>\n      <td>615</td>\n      <td>190</td>\n      <td>3</td>\n      <td>-477.004730</td>\n      <td>3.736262</td>\n      <td>1.0</td>\n      <td>1.657431e+09</td>\n    </tr>\n    <tr>\n      <th>17</th>\n      <td>615</td>\n      <td>190</td>\n      <td>4</td>\n      <td>-400.270386</td>\n      <td>3.834955</td>\n      <td>1.0</td>\n      <td>1.657432e+09</td>\n    </tr>\n    <tr>\n      <th>18</th>\n      <td>615</td>\n      <td>190</td>\n      <td>5</td>\n      <td>-415.286896</td>\n      <td>7.435979</td>\n      <td>1.0</td>\n      <td>1.657433e+09</td>\n    </tr>\n    <tr>\n      <th>19</th>\n      <td>615</td>\n      <td>199</td>\n      <td>1</td>\n      <td>-921.002502</td>\n      <td>6.306800</td>\n      <td>1.0</td>\n      <td>1.658217e+09</td>\n    </tr>\n    <tr>\n      <th>20</th>\n      <td>615</td>\n      <td>199</td>\n      <td>2</td>\n      <td>-630.523682</td>\n      <td>4.333287</td>\n      <td>1.0</td>\n      <td>1.658216e+09</td>\n    </tr>\n    <tr>\n      <th>21</th>\n      <td>615</td>\n      <td>199</td>\n      <td>3</td>\n      <td>-518.533997</td>\n      <td>3.915225</td>\n      <td>1.0</td>\n      <td>1.658218e+09</td>\n    </tr>\n    <tr>\n      <th>22</th>\n      <td>615</td>\n      <td>199</td>\n      <td>4</td>\n      <td>-422.184509</td>\n      <td>4.089213</td>\n      <td>1.0</td>\n      <td>1.658219e+09</td>\n    </tr>\n    <tr>\n      <th>23</th>\n      <td>615</td>\n      <td>199</td>\n      <td>5</td>\n      <td>-422.815094</td>\n      <td>8.124096</td>\n      <td>1.0</td>\n      <td>1.658220e+09</td>\n    </tr>\n    <tr>\n      <th>24</th>\n      <td>615</td>\n      <td>202</td>\n      <td>1</td>\n      <td>-449.095612</td>\n      <td>4.028310</td>\n      <td>1.0</td>\n      <td>1.658465e+09</td>\n    </tr>\n    <tr>\n      <th>25</th>\n      <td>615</td>\n      <td>202</td>\n      <td>2</td>\n      <td>-280.039520</td>\n      <td>2.819228</td>\n      <td>1.0</td>\n      <td>1.658464e+09</td>\n    </tr>\n    <tr>\n      <th>26</th>\n      <td>615</td>\n      <td>202</td>\n      <td>3</td>\n      <td>-316.704865</td>\n      <td>3.491153</td>\n      <td>1.0</td>\n      <td>1.658466e+09</td>\n    </tr>\n    <tr>\n      <th>27</th>\n      <td>615</td>\n      <td>202</td>\n      <td>4</td>\n      <td>-332.885437</td>\n      <td>4.021619</td>\n      <td>1.0</td>\n      <td>1.658467e+09</td>\n    </tr>\n    <tr>\n      <th>28</th>\n      <td>615</td>\n      <td>202</td>\n      <td>5</td>\n      <td>-365.075775</td>\n      <td>8.514805</td>\n      <td>1.0</td>\n      <td>1.658468e+09</td>\n    </tr>\n    <tr>\n      <th>29</th>\n      <td>615</td>\n      <td>217</td>\n      <td>1</td>\n      <td>35.511822</td>\n      <td>3.163646</td>\n      <td>1.0</td>\n      <td>1.659769e+09</td>\n    </tr>\n    <tr>\n      <th>...</th>\n      <td>...</td>\n      <td>...</td>\n      <td>...</td>\n      <td>...</td>\n      <td>...</td>\n      <td>...</td>\n      <td>...</td>\n    </tr>\n    <tr>\n      <th>1419780</th>\n      <td>130779836</td>\n      <td>884</td>\n      <td>2</td>\n      <td>3.294472</td>\n      <td>23.675900</td>\n      <td>0.0</td>\n      <td>1.717391e+09</td>\n    </tr>\n    <tr>\n      <th>1419781</th>\n      <td>130779836</td>\n      <td>886</td>\n      <td>0</td>\n      <td>113.988297</td>\n      <td>57.096981</td>\n      <td>0.0</td>\n      <td>1.717568e+09</td>\n    </tr>\n    <tr>\n      <th>1419782</th>\n      <td>130779836</td>\n      <td>910</td>\n      <td>2</td>\n      <td>12.464979</td>\n      <td>23.430984</td>\n      <td>0.0</td>\n      <td>1.719633e+09</td>\n    </tr>\n    <tr>\n      <th>1419783</th>\n      <td>130779836</td>\n      <td>911</td>\n      <td>1</td>\n      <td>-13.734149</td>\n      <td>19.639900</td>\n      <td>0.0</td>\n      <td>1.719722e+09</td>\n    </tr>\n    <tr>\n      <th>1419784</th>\n      <td>130779836</td>\n      <td>916</td>\n      <td>2</td>\n      <td>-14.478923</td>\n      <td>23.485855</td>\n      <td>0.0</td>\n      <td>1.720148e+09</td>\n    </tr>\n    <tr>\n      <th>1419785</th>\n      <td>130779836</td>\n      <td>917</td>\n      <td>3</td>\n      <td>12.178056</td>\n      <td>15.891281</td>\n      <td>0.0</td>\n      <td>1.720237e+09</td>\n    </tr>\n    <tr>\n      <th>1419786</th>\n      <td>130779836</td>\n      <td>918</td>\n      <td>3</td>\n      <td>-20.815857</td>\n      <td>19.349518</td>\n      <td>0.0</td>\n      <td>1.720327e+09</td>\n    </tr>\n    <tr>\n      <th>1419787</th>\n      <td>130779836</td>\n      <td>919</td>\n      <td>0</td>\n      <td>54.361107</td>\n      <td>40.085011</td>\n      <td>0.0</td>\n      <td>1.720409e+09</td>\n    </tr>\n    <tr>\n      <th>1419788</th>\n      <td>130779836</td>\n      <td>923</td>\n      <td>3</td>\n      <td>9.912425</td>\n      <td>27.719427</td>\n      <td>0.0</td>\n      <td>1.720752e+09</td>\n    </tr>\n    <tr>\n      <th>1419789</th>\n      <td>130779836</td>\n      <td>925</td>\n      <td>2</td>\n      <td>17.719660</td>\n      <td>23.651981</td>\n      <td>0.0</td>\n      <td>1.720924e+09</td>\n    </tr>\n    <tr>\n      <th>1419790</th>\n      <td>130779836</td>\n      <td>926</td>\n      <td>5</td>\n      <td>-86.457382</td>\n      <td>57.588879</td>\n      <td>0.0</td>\n      <td>1.721010e+09</td>\n    </tr>\n    <tr>\n      <th>1419791</th>\n      <td>130779836</td>\n      <td>930</td>\n      <td>4</td>\n      <td>-39.215195</td>\n      <td>23.872086</td>\n      <td>0.0</td>\n      <td>1.721365e+09</td>\n    </tr>\n    <tr>\n      <th>1419792</th>\n      <td>130779836</td>\n      <td>935</td>\n      <td>5</td>\n      <td>-81.113083</td>\n      <td>46.094658</td>\n      <td>0.0</td>\n      <td>1.721803e+09</td>\n    </tr>\n    <tr>\n      <th>1419793</th>\n      <td>130779836</td>\n      <td>944</td>\n      <td>0</td>\n      <td>136.082718</td>\n      <td>61.556919</td>\n      <td>0.0</td>\n      <td>1.722560e+09</td>\n    </tr>\n    <tr>\n      <th>1419794</th>\n      <td>130779836</td>\n      <td>945</td>\n      <td>0</td>\n      <td>43.910740</td>\n      <td>59.821396</td>\n      <td>0.0</td>\n      <td>1.722649e+09</td>\n    </tr>\n    <tr>\n      <th>1419795</th>\n      <td>130779836</td>\n      <td>946</td>\n      <td>3</td>\n      <td>59.376686</td>\n      <td>27.732946</td>\n      <td>0.0</td>\n      <td>1.722746e+09</td>\n    </tr>\n    <tr>\n      <th>1419796</th>\n      <td>130779836</td>\n      <td>948</td>\n      <td>3</td>\n      <td>5.993599</td>\n      <td>27.752035</td>\n      <td>0.0</td>\n      <td>1.722905e+09</td>\n    </tr>\n    <tr>\n      <th>1419797</th>\n      <td>130779836</td>\n      <td>950</td>\n      <td>1</td>\n      <td>2.986908</td>\n      <td>19.109673</td>\n      <td>0.0</td>\n      <td>1.723084e+09</td>\n    </tr>\n    <tr>\n      <th>1419798</th>\n      <td>130779836</td>\n      <td>956</td>\n      <td>5</td>\n      <td>5.653964</td>\n      <td>53.119434</td>\n      <td>0.0</td>\n      <td>1.723597e+09</td>\n    </tr>\n    <tr>\n      <th>1419799</th>\n      <td>130779836</td>\n      <td>957</td>\n      <td>3</td>\n      <td>-41.850040</td>\n      <td>26.782366</td>\n      <td>0.0</td>\n      <td>1.723693e+09</td>\n    </tr>\n    <tr>\n      <th>1419800</th>\n      <td>130779836</td>\n      <td>962</td>\n      <td>4</td>\n      <td>-60.500492</td>\n      <td>14.743795</td>\n      <td>0.0</td>\n      <td>1.724116e+09</td>\n    </tr>\n    <tr>\n      <th>1419801</th>\n      <td>130779836</td>\n      <td>963</td>\n      <td>4</td>\n      <td>-48.527161</td>\n      <td>24.004080</td>\n      <td>0.0</td>\n      <td>1.724201e+09</td>\n    </tr>\n    <tr>\n      <th>1419802</th>\n      <td>130779836</td>\n      <td>965</td>\n      <td>5</td>\n      <td>32.006413</td>\n      <td>77.931732</td>\n      <td>0.0</td>\n      <td>1.724456e+09</td>\n    </tr>\n    <tr>\n      <th>1419803</th>\n      <td>130779836</td>\n      <td>966</td>\n      <td>5</td>\n      <td>68.152985</td>\n      <td>56.351048</td>\n      <td>0.0</td>\n      <td>1.724542e+09</td>\n    </tr>\n    <tr>\n      <th>1419804</th>\n      <td>130779836</td>\n      <td>968</td>\n      <td>4</td>\n      <td>-60.066154</td>\n      <td>34.353317</td>\n      <td>0.0</td>\n      <td>1.724715e+09</td>\n    </tr>\n    <tr>\n      <th>1419805</th>\n      <td>130779836</td>\n      <td>975</td>\n      <td>4</td>\n      <td>-39.881969</td>\n      <td>46.477093</td>\n      <td>0.0</td>\n      <td>1.725320e+09</td>\n    </tr>\n    <tr>\n      <th>1419806</th>\n      <td>130779836</td>\n      <td>980</td>\n      <td>1</td>\n      <td>14.894439</td>\n      <td>18.947685</td>\n      <td>0.0</td>\n      <td>1.725671e+09</td>\n    </tr>\n    <tr>\n      <th>1419807</th>\n      <td>130779836</td>\n      <td>991</td>\n      <td>5</td>\n      <td>30.593130</td>\n      <td>50.695290</td>\n      <td>0.0</td>\n      <td>1.726620e+09</td>\n    </tr>\n    <tr>\n      <th>1419808</th>\n      <td>130779836</td>\n      <td>1005</td>\n      <td>4</td>\n      <td>-23.471439</td>\n      <td>44.819859</td>\n      <td>0.0</td>\n      <td>1.727913e+09</td>\n    </tr>\n    <tr>\n      <th>1419809</th>\n      <td>130779836</td>\n      <td>1008</td>\n      <td>0</td>\n      <td>-41.214264</td>\n      <td>51.665123</td>\n      <td>0.0</td>\n      <td>1.728090e+09</td>\n    </tr>\n  </tbody>\n</table>\n<p>1419810 rows × 7 columns</p>\n</div>"
          },
          "metadata": {}
        }
      ]
    },
    {
      "metadata": {
        "trusted": true,
        "_uuid": "c8563504973867ace435b959ea64b4d8171d1094"
      },
      "cell_type": "code",
      "source": "tmp = train.groupby([\"object_id\", \"mjd\", \"passband\"]).count()\ntmp[tmp.flux>1].shape[0] / train.shape[0]",
      "execution_count": 14,
      "outputs": [
        {
          "output_type": "execute_result",
          "execution_count": 14,
          "data": {
            "text/plain": "0.0"
          },
          "metadata": {}
        }
      ]
    },
    {
      "metadata": {
        "trusted": true,
        "_uuid": "8cc2104864692cef7bc43274e40088ae2d8eddf2"
      },
      "cell_type": "code",
      "source": "max_mjd = train.mjd.max()\nmax_mjd",
      "execution_count": 15,
      "outputs": [
        {
          "output_type": "execute_result",
          "execution_count": 15,
          "data": {
            "text/plain": "1094"
          },
          "metadata": {}
        }
      ]
    },
    {
      "metadata": {
        "trusted": true,
        "_uuid": "b1fa559803d875b8c9a694676373355e71e905d7"
      },
      "cell_type": "code",
      "source": "times = train.groupby([\"object_id\", \"passband\"]).apply(lambda row: row.mjd.values).reset_index().rename(columns={0: 'times'})\ntimes.head(5)",
      "execution_count": null,
      "outputs": []
    },
    {
      "metadata": {
        "trusted": true,
        "_uuid": "9b5620d9687d906ab093ae8b22b9dc9e47838cd5"
      },
      "cell_type": "code",
      "source": "features_set = pd.read_csv(\"../input/features-set/feature_set.csv\", index_col=[0, 1])\nfeatures_set.head(10)",
      "execution_count": null,
      "outputs": []
    },
    {
      "metadata": {
        "trusted": true,
        "_uuid": "3c15d7ea0556a58d129a73240c4459b85aae37cc"
      },
      "cell_type": "code",
      "source": "def fill_missing_values(times, features_set, max_times=max_mjd, step=1):\n    timeset = set(np.arange(0, max_times+1, step))\n    X = []\n    for i, row in times.iterrows():\n        missing = timeset - set(row.times)\n        features = features_set.loc[row.object_id, row.passband]\n        for t in missing:\n            X.append([row.object_id, t, row.passband, features[\"mean\"], features[\"avg_err\"], -1])\n    return pd.DataFrame(columns=[\"object_id\", \"mjd\", \"passband\", \"flux\", \"flux_err\", \"detected\"], data=X)",
      "execution_count": null,
      "outputs": []
    },
    {
      "metadata": {
        "trusted": true,
        "_uuid": "af2dc74da6e30daa0fd5d905527ee9499f9fd98f"
      },
      "cell_type": "code",
      "source": "missing_data = fill_missing_values(times[:10], features_set, max_mjd)",
      "execution_count": null,
      "outputs": []
    },
    {
      "metadata": {
        "trusted": true,
        "_uuid": "af2dc74da6e30daa0fd5d905527ee9499f9fd98f"
      },
      "cell_type": "code",
      "source": "missing_data.head()",
      "execution_count": null,
      "outputs": []
    },
    {
      "metadata": {
        "trusted": true,
        "_uuid": "07096d27dd3af5737e2a3773ac522ed94feec942"
      },
      "cell_type": "code",
      "source": "X_train = train.append(missing_data, ignore_index=True)",
      "execution_count": null,
      "outputs": []
    },
    {
      "metadata": {
        "trusted": true,
        "_uuid": "f959edfa631645074dbe105fecc72f12b701ee5c"
      },
      "cell_type": "code",
      "source": "X_train.to_csv(\"completed_light_curves.csv\")",
      "execution_count": null,
      "outputs": []
    }
  ],
  "metadata": {
    "kernelspec": {
      "display_name": "Python 3",
      "language": "python",
      "name": "python3"
    },
    "language_info": {
      "name": "python",
      "version": "3.6.6",
      "mimetype": "text/x-python",
      "codemirror_mode": {
        "name": "ipython",
        "version": 3
      },
      "pygments_lexer": "ipython3",
      "nbconvert_exporter": "python",
      "file_extension": ".py"
    }
  },
  "nbformat": 4,
  "nbformat_minor": 1
}